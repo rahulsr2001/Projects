{
 "cells": [
  {
   "cell_type": "code",
   "execution_count": null,
   "id": "f1d08a82-6fae-4141-adee-5faeb6cc9c06",
   "metadata": {},
   "outputs": [],
   "source": []
  },
  {
   "cell_type": "code",
   "execution_count": 212,
   "id": "4a6f2f8d-46aa-4085-89a8-e819746d95e1",
   "metadata": {},
   "outputs": [],
   "source": [
    "import numpy as np\n",
    "import pandas as pd\n",
    "import matplotlib.pyplot as plt\n",
    "import seaborn as sns"
   ]
  },
  {
   "cell_type": "code",
   "execution_count": 397,
   "id": "9e9c5dfe-d4b9-451b-8549-87aeead41b07",
   "metadata": {},
   "outputs": [],
   "source": [
    "df = pd.read_csv(r\"C:\\Users\\Asus\\Downloads\\gold.csv\")"
   ]
  },
  {
   "cell_type": "markdown",
   "id": "fc78d01e-8e93-4fe7-9dc8-603fdb9c6d81",
   "metadata": {},
   "source": [
    "# DATA ANALYSING"
   ]
  },
  {
   "cell_type": "code",
   "execution_count": 398,
   "id": "91406045-4206-4b77-ba83-8c842e76b0f7",
   "metadata": {},
   "outputs": [
    {
     "data": {
      "text/html": [
       "<div>\n",
       "<style scoped>\n",
       "    .dataframe tbody tr th:only-of-type {\n",
       "        vertical-align: middle;\n",
       "    }\n",
       "\n",
       "    .dataframe tbody tr th {\n",
       "        vertical-align: top;\n",
       "    }\n",
       "\n",
       "    .dataframe thead th {\n",
       "        text-align: right;\n",
       "    }\n",
       "</style>\n",
       "<table border=\"1\" class=\"dataframe\">\n",
       "  <thead>\n",
       "    <tr style=\"text-align: right;\">\n",
       "      <th></th>\n",
       "      <th>Date</th>\n",
       "      <th>Open</th>\n",
       "      <th>High</th>\n",
       "      <th>Low</th>\n",
       "      <th>Close</th>\n",
       "      <th>Volume</th>\n",
       "      <th>Currency</th>\n",
       "    </tr>\n",
       "  </thead>\n",
       "  <tbody>\n",
       "    <tr>\n",
       "      <th>0</th>\n",
       "      <td>2000-01-04</td>\n",
       "      <td>289.5</td>\n",
       "      <td>289.50</td>\n",
       "      <td>280.00</td>\n",
       "      <td>283.7</td>\n",
       "      <td>21621</td>\n",
       "      <td>USD</td>\n",
       "    </tr>\n",
       "    <tr>\n",
       "      <th>1</th>\n",
       "      <td>2000-01-05</td>\n",
       "      <td>283.7</td>\n",
       "      <td>285.00</td>\n",
       "      <td>281.00</td>\n",
       "      <td>282.1</td>\n",
       "      <td>25448</td>\n",
       "      <td>USD</td>\n",
       "    </tr>\n",
       "    <tr>\n",
       "      <th>2</th>\n",
       "      <td>2000-01-06</td>\n",
       "      <td>281.6</td>\n",
       "      <td>282.80</td>\n",
       "      <td>280.20</td>\n",
       "      <td>282.4</td>\n",
       "      <td>19055</td>\n",
       "      <td>USD</td>\n",
       "    </tr>\n",
       "    <tr>\n",
       "      <th>3</th>\n",
       "      <td>2000-01-07</td>\n",
       "      <td>282.5</td>\n",
       "      <td>284.50</td>\n",
       "      <td>282.00</td>\n",
       "      <td>282.9</td>\n",
       "      <td>11266</td>\n",
       "      <td>USD</td>\n",
       "    </tr>\n",
       "    <tr>\n",
       "      <th>4</th>\n",
       "      <td>2000-01-10</td>\n",
       "      <td>282.4</td>\n",
       "      <td>283.90</td>\n",
       "      <td>281.80</td>\n",
       "      <td>282.7</td>\n",
       "      <td>30603</td>\n",
       "      <td>USD</td>\n",
       "    </tr>\n",
       "    <tr>\n",
       "      <th>...</th>\n",
       "      <td>...</td>\n",
       "      <td>...</td>\n",
       "      <td>...</td>\n",
       "      <td>...</td>\n",
       "      <td>...</td>\n",
       "      <td>...</td>\n",
       "      <td>...</td>\n",
       "    </tr>\n",
       "    <tr>\n",
       "      <th>5698</th>\n",
       "      <td>2022-08-29</td>\n",
       "      <td>1748.4</td>\n",
       "      <td>1757.90</td>\n",
       "      <td>1731.40</td>\n",
       "      <td>1749.7</td>\n",
       "      <td>156220</td>\n",
       "      <td>USD</td>\n",
       "    </tr>\n",
       "    <tr>\n",
       "      <th>5699</th>\n",
       "      <td>2022-08-30</td>\n",
       "      <td>1749.8</td>\n",
       "      <td>1752.80</td>\n",
       "      <td>1732.90</td>\n",
       "      <td>1736.3</td>\n",
       "      <td>130664</td>\n",
       "      <td>USD</td>\n",
       "    </tr>\n",
       "    <tr>\n",
       "      <th>5700</th>\n",
       "      <td>2022-08-31</td>\n",
       "      <td>1735.5</td>\n",
       "      <td>1738.00</td>\n",
       "      <td>1720.60</td>\n",
       "      <td>1726.2</td>\n",
       "      <td>176731</td>\n",
       "      <td>USD</td>\n",
       "    </tr>\n",
       "    <tr>\n",
       "      <th>5701</th>\n",
       "      <td>2022-09-01</td>\n",
       "      <td>1723.0</td>\n",
       "      <td>1723.00</td>\n",
       "      <td>1699.10</td>\n",
       "      <td>1709.3</td>\n",
       "      <td>198618</td>\n",
       "      <td>USD</td>\n",
       "    </tr>\n",
       "    <tr>\n",
       "      <th>5702</th>\n",
       "      <td>2022-09-02</td>\n",
       "      <td>1707.9</td>\n",
       "      <td>1729.45</td>\n",
       "      <td>1707.05</td>\n",
       "      <td>1723.0</td>\n",
       "      <td>0</td>\n",
       "      <td>USD</td>\n",
       "    </tr>\n",
       "  </tbody>\n",
       "</table>\n",
       "<p>5703 rows × 7 columns</p>\n",
       "</div>"
      ],
      "text/plain": [
       "            Date    Open     High      Low   Close  Volume Currency\n",
       "0     2000-01-04   289.5   289.50   280.00   283.7   21621      USD\n",
       "1     2000-01-05   283.7   285.00   281.00   282.1   25448      USD\n",
       "2     2000-01-06   281.6   282.80   280.20   282.4   19055      USD\n",
       "3     2000-01-07   282.5   284.50   282.00   282.9   11266      USD\n",
       "4     2000-01-10   282.4   283.90   281.80   282.7   30603      USD\n",
       "...          ...     ...      ...      ...     ...     ...      ...\n",
       "5698  2022-08-29  1748.4  1757.90  1731.40  1749.7  156220      USD\n",
       "5699  2022-08-30  1749.8  1752.80  1732.90  1736.3  130664      USD\n",
       "5700  2022-08-31  1735.5  1738.00  1720.60  1726.2  176731      USD\n",
       "5701  2022-09-01  1723.0  1723.00  1699.10  1709.3  198618      USD\n",
       "5702  2022-09-02  1707.9  1729.45  1707.05  1723.0       0      USD\n",
       "\n",
       "[5703 rows x 7 columns]"
      ]
     },
     "execution_count": 398,
     "metadata": {},
     "output_type": "execute_result"
    }
   ],
   "source": [
    "df"
   ]
  },
  {
   "cell_type": "code",
   "execution_count": 399,
   "id": "5fe9ab15-686a-4e63-8cf8-e1b5aafe8d5b",
   "metadata": {},
   "outputs": [
    {
     "data": {
      "text/html": [
       "<div>\n",
       "<style scoped>\n",
       "    .dataframe tbody tr th:only-of-type {\n",
       "        vertical-align: middle;\n",
       "    }\n",
       "\n",
       "    .dataframe tbody tr th {\n",
       "        vertical-align: top;\n",
       "    }\n",
       "\n",
       "    .dataframe thead th {\n",
       "        text-align: right;\n",
       "    }\n",
       "</style>\n",
       "<table border=\"1\" class=\"dataframe\">\n",
       "  <thead>\n",
       "    <tr style=\"text-align: right;\">\n",
       "      <th></th>\n",
       "      <th>Date</th>\n",
       "      <th>Open</th>\n",
       "      <th>High</th>\n",
       "      <th>Low</th>\n",
       "      <th>Close</th>\n",
       "      <th>Volume</th>\n",
       "      <th>Currency</th>\n",
       "    </tr>\n",
       "  </thead>\n",
       "  <tbody>\n",
       "    <tr>\n",
       "      <th>0</th>\n",
       "      <td>2000-01-04</td>\n",
       "      <td>289.5</td>\n",
       "      <td>289.5</td>\n",
       "      <td>280.0</td>\n",
       "      <td>283.7</td>\n",
       "      <td>21621</td>\n",
       "      <td>USD</td>\n",
       "    </tr>\n",
       "    <tr>\n",
       "      <th>1</th>\n",
       "      <td>2000-01-05</td>\n",
       "      <td>283.7</td>\n",
       "      <td>285.0</td>\n",
       "      <td>281.0</td>\n",
       "      <td>282.1</td>\n",
       "      <td>25448</td>\n",
       "      <td>USD</td>\n",
       "    </tr>\n",
       "    <tr>\n",
       "      <th>2</th>\n",
       "      <td>2000-01-06</td>\n",
       "      <td>281.6</td>\n",
       "      <td>282.8</td>\n",
       "      <td>280.2</td>\n",
       "      <td>282.4</td>\n",
       "      <td>19055</td>\n",
       "      <td>USD</td>\n",
       "    </tr>\n",
       "    <tr>\n",
       "      <th>3</th>\n",
       "      <td>2000-01-07</td>\n",
       "      <td>282.5</td>\n",
       "      <td>284.5</td>\n",
       "      <td>282.0</td>\n",
       "      <td>282.9</td>\n",
       "      <td>11266</td>\n",
       "      <td>USD</td>\n",
       "    </tr>\n",
       "    <tr>\n",
       "      <th>4</th>\n",
       "      <td>2000-01-10</td>\n",
       "      <td>282.4</td>\n",
       "      <td>283.9</td>\n",
       "      <td>281.8</td>\n",
       "      <td>282.7</td>\n",
       "      <td>30603</td>\n",
       "      <td>USD</td>\n",
       "    </tr>\n",
       "  </tbody>\n",
       "</table>\n",
       "</div>"
      ],
      "text/plain": [
       "         Date   Open   High    Low  Close  Volume Currency\n",
       "0  2000-01-04  289.5  289.5  280.0  283.7   21621      USD\n",
       "1  2000-01-05  283.7  285.0  281.0  282.1   25448      USD\n",
       "2  2000-01-06  281.6  282.8  280.2  282.4   19055      USD\n",
       "3  2000-01-07  282.5  284.5  282.0  282.9   11266      USD\n",
       "4  2000-01-10  282.4  283.9  281.8  282.7   30603      USD"
      ]
     },
     "execution_count": 399,
     "metadata": {},
     "output_type": "execute_result"
    }
   ],
   "source": [
    "df.head()"
   ]
  },
  {
   "cell_type": "code",
   "execution_count": 400,
   "id": "c14b147b-c9b5-4a70-bb13-01ff378638ee",
   "metadata": {},
   "outputs": [
    {
     "data": {
      "text/html": [
       "<div>\n",
       "<style scoped>\n",
       "    .dataframe tbody tr th:only-of-type {\n",
       "        vertical-align: middle;\n",
       "    }\n",
       "\n",
       "    .dataframe tbody tr th {\n",
       "        vertical-align: top;\n",
       "    }\n",
       "\n",
       "    .dataframe thead th {\n",
       "        text-align: right;\n",
       "    }\n",
       "</style>\n",
       "<table border=\"1\" class=\"dataframe\">\n",
       "  <thead>\n",
       "    <tr style=\"text-align: right;\">\n",
       "      <th></th>\n",
       "      <th>Date</th>\n",
       "      <th>Open</th>\n",
       "      <th>High</th>\n",
       "      <th>Low</th>\n",
       "      <th>Close</th>\n",
       "      <th>Volume</th>\n",
       "      <th>Currency</th>\n",
       "    </tr>\n",
       "  </thead>\n",
       "  <tbody>\n",
       "    <tr>\n",
       "      <th>5698</th>\n",
       "      <td>2022-08-29</td>\n",
       "      <td>1748.4</td>\n",
       "      <td>1757.90</td>\n",
       "      <td>1731.40</td>\n",
       "      <td>1749.7</td>\n",
       "      <td>156220</td>\n",
       "      <td>USD</td>\n",
       "    </tr>\n",
       "    <tr>\n",
       "      <th>5699</th>\n",
       "      <td>2022-08-30</td>\n",
       "      <td>1749.8</td>\n",
       "      <td>1752.80</td>\n",
       "      <td>1732.90</td>\n",
       "      <td>1736.3</td>\n",
       "      <td>130664</td>\n",
       "      <td>USD</td>\n",
       "    </tr>\n",
       "    <tr>\n",
       "      <th>5700</th>\n",
       "      <td>2022-08-31</td>\n",
       "      <td>1735.5</td>\n",
       "      <td>1738.00</td>\n",
       "      <td>1720.60</td>\n",
       "      <td>1726.2</td>\n",
       "      <td>176731</td>\n",
       "      <td>USD</td>\n",
       "    </tr>\n",
       "    <tr>\n",
       "      <th>5701</th>\n",
       "      <td>2022-09-01</td>\n",
       "      <td>1723.0</td>\n",
       "      <td>1723.00</td>\n",
       "      <td>1699.10</td>\n",
       "      <td>1709.3</td>\n",
       "      <td>198618</td>\n",
       "      <td>USD</td>\n",
       "    </tr>\n",
       "    <tr>\n",
       "      <th>5702</th>\n",
       "      <td>2022-09-02</td>\n",
       "      <td>1707.9</td>\n",
       "      <td>1729.45</td>\n",
       "      <td>1707.05</td>\n",
       "      <td>1723.0</td>\n",
       "      <td>0</td>\n",
       "      <td>USD</td>\n",
       "    </tr>\n",
       "  </tbody>\n",
       "</table>\n",
       "</div>"
      ],
      "text/plain": [
       "            Date    Open     High      Low   Close  Volume Currency\n",
       "5698  2022-08-29  1748.4  1757.90  1731.40  1749.7  156220      USD\n",
       "5699  2022-08-30  1749.8  1752.80  1732.90  1736.3  130664      USD\n",
       "5700  2022-08-31  1735.5  1738.00  1720.60  1726.2  176731      USD\n",
       "5701  2022-09-01  1723.0  1723.00  1699.10  1709.3  198618      USD\n",
       "5702  2022-09-02  1707.9  1729.45  1707.05  1723.0       0      USD"
      ]
     },
     "execution_count": 400,
     "metadata": {},
     "output_type": "execute_result"
    }
   ],
   "source": [
    "df.tail()"
   ]
  },
  {
   "cell_type": "code",
   "execution_count": 401,
   "id": "356fffaa-e9aa-4291-ab57-451796a7ca4b",
   "metadata": {},
   "outputs": [
    {
     "name": "stdout",
     "output_type": "stream",
     "text": [
      "<class 'pandas.core.frame.DataFrame'>\n",
      "RangeIndex: 5703 entries, 0 to 5702\n",
      "Data columns (total 7 columns):\n",
      " #   Column    Non-Null Count  Dtype  \n",
      "---  ------    --------------  -----  \n",
      " 0   Date      5703 non-null   object \n",
      " 1   Open      5703 non-null   float64\n",
      " 2   High      5703 non-null   float64\n",
      " 3   Low       5703 non-null   float64\n",
      " 4   Close     5703 non-null   float64\n",
      " 5   Volume    5703 non-null   int64  \n",
      " 6   Currency  5703 non-null   object \n",
      "dtypes: float64(4), int64(1), object(2)\n",
      "memory usage: 312.0+ KB\n"
     ]
    }
   ],
   "source": [
    "df.info()"
   ]
  },
  {
   "cell_type": "code",
   "execution_count": 402,
   "id": "2a909a11-448f-49dc-a5d7-d7bd3bcce59d",
   "metadata": {},
   "outputs": [
    {
     "data": {
      "text/plain": [
       "Index(['Date', 'Open', 'High', 'Low', 'Close', 'Volume', 'Currency'], dtype='object')"
      ]
     },
     "execution_count": 402,
     "metadata": {},
     "output_type": "execute_result"
    }
   ],
   "source": [
    "df.columns"
   ]
  },
  {
   "cell_type": "code",
   "execution_count": 403,
   "id": "850b9e48-6d9b-4d87-a1c0-b20ee4548596",
   "metadata": {},
   "outputs": [
    {
     "data": {
      "text/plain": [
       "Date         object\n",
       "Open        float64\n",
       "High        float64\n",
       "Low         float64\n",
       "Close       float64\n",
       "Volume        int64\n",
       "Currency     object\n",
       "dtype: object"
      ]
     },
     "execution_count": 403,
     "metadata": {},
     "output_type": "execute_result"
    }
   ],
   "source": [
    "df.dtypes"
   ]
  },
  {
   "cell_type": "code",
   "execution_count": 404,
   "id": "6857d195-7423-4be7-b701-7b6d54a667f9",
   "metadata": {},
   "outputs": [
    {
     "data": {
      "text/plain": [
       "Date        0\n",
       "Open        0\n",
       "High        0\n",
       "Low         0\n",
       "Close       0\n",
       "Volume      0\n",
       "Currency    0\n",
       "dtype: int64"
      ]
     },
     "execution_count": 404,
     "metadata": {},
     "output_type": "execute_result"
    }
   ],
   "source": [
    "df.isnull().sum()"
   ]
  },
  {
   "cell_type": "markdown",
   "id": "6d8fc4dc-cd44-4daf-bd98-bb744b4b5f62",
   "metadata": {},
   "source": [
    "# DATA CLEANING"
   ]
  },
  {
   "cell_type": "code",
   "execution_count": 405,
   "id": "cf1362b6-d4bb-4992-b875-38bfda59703d",
   "metadata": {},
   "outputs": [
    {
     "data": {
      "text/plain": [
       "Text(0.5, 1.0, 'Open')"
      ]
     },
     "execution_count": 405,
     "metadata": {},
     "output_type": "execute_result"
    },
    {
     "data": {
      "image/png": "[encoded data removed]",
      "text/plain": [
       "<Figure size 640x480 with 1 Axes>"
      ]
     },
     "metadata": {},
     "output_type": "display_data"
    }
   ],
   "source": [
    "plt.boxplot(df['Open'])\n",
    "plt.title('Open')"
   ]
  },
  {
   "cell_type": "code",
   "execution_count": 406,
   "id": "75955c9d-a5ea-4b60-ab55-e88d2efadf3f",
   "metadata": {},
   "outputs": [
    {
     "data": {
      "text/plain": [
       "Text(0.5, 1.0, 'Close')"
      ]
     },
     "execution_count": 406,
     "metadata": {},
     "output_type": "execute_result"
    },
    {
     "data": {
      "image/png": "[encoded data removed]",
      "text/plain": [
       "<Figure size 640x480 with 1 Axes>"
      ]
     },
     "metadata": {},
     "output_type": "display_data"
    }
   ],
   "source": [
    "plt.boxplot(df['Close'])\n",
    "plt.title('Close')"
   ]
  },
  {
   "cell_type": "code",
   "execution_count": null,
   "id": "c5cb5db3-18af-46a6-a8c8-5b875cde308f",
   "metadata": {},
   "outputs": [],
   "source": []
  },
  {
   "cell_type": "markdown",
   "id": "b13593b8-aee7-405f-9ef7-b444ebc9ee30",
   "metadata": {},
   "source": [
    "# DATA TRANSFORMING"
   ]
  },
  {
   "cell_type": "code",
   "execution_count": 407,
   "id": "af7ae8ec-ba2e-490a-9417-3d3e5df85161",
   "metadata": {},
   "outputs": [
    {
     "data": {
      "text/html": [
       "<div>\n",
       "<style scoped>\n",
       "    .dataframe tbody tr th:only-of-type {\n",
       "        vertical-align: middle;\n",
       "    }\n",
       "\n",
       "    .dataframe tbody tr th {\n",
       "        vertical-align: top;\n",
       "    }\n",
       "\n",
       "    .dataframe thead th {\n",
       "        text-align: right;\n",
       "    }\n",
       "</style>\n",
       "<table border=\"1\" class=\"dataframe\">\n",
       "  <thead>\n",
       "    <tr style=\"text-align: right;\">\n",
       "      <th></th>\n",
       "      <th>Date</th>\n",
       "      <th>Open</th>\n",
       "      <th>High</th>\n",
       "      <th>Low</th>\n",
       "      <th>Close</th>\n",
       "      <th>Volume</th>\n",
       "      <th>Currency</th>\n",
       "    </tr>\n",
       "  </thead>\n",
       "  <tbody>\n",
       "    <tr>\n",
       "      <th>0</th>\n",
       "      <td>2000-01-04</td>\n",
       "      <td>289.5</td>\n",
       "      <td>289.50</td>\n",
       "      <td>280.00</td>\n",
       "      <td>283.7</td>\n",
       "      <td>21621</td>\n",
       "      <td>USD</td>\n",
       "    </tr>\n",
       "    <tr>\n",
       "      <th>1</th>\n",
       "      <td>2000-01-05</td>\n",
       "      <td>283.7</td>\n",
       "      <td>285.00</td>\n",
       "      <td>281.00</td>\n",
       "      <td>282.1</td>\n",
       "      <td>25448</td>\n",
       "      <td>USD</td>\n",
       "    </tr>\n",
       "    <tr>\n",
       "      <th>2</th>\n",
       "      <td>2000-01-06</td>\n",
       "      <td>281.6</td>\n",
       "      <td>282.80</td>\n",
       "      <td>280.20</td>\n",
       "      <td>282.4</td>\n",
       "      <td>19055</td>\n",
       "      <td>USD</td>\n",
       "    </tr>\n",
       "    <tr>\n",
       "      <th>3</th>\n",
       "      <td>2000-01-07</td>\n",
       "      <td>282.5</td>\n",
       "      <td>284.50</td>\n",
       "      <td>282.00</td>\n",
       "      <td>282.9</td>\n",
       "      <td>11266</td>\n",
       "      <td>USD</td>\n",
       "    </tr>\n",
       "    <tr>\n",
       "      <th>4</th>\n",
       "      <td>2000-01-10</td>\n",
       "      <td>282.4</td>\n",
       "      <td>283.90</td>\n",
       "      <td>281.80</td>\n",
       "      <td>282.7</td>\n",
       "      <td>30603</td>\n",
       "      <td>USD</td>\n",
       "    </tr>\n",
       "    <tr>\n",
       "      <th>...</th>\n",
       "      <td>...</td>\n",
       "      <td>...</td>\n",
       "      <td>...</td>\n",
       "      <td>...</td>\n",
       "      <td>...</td>\n",
       "      <td>...</td>\n",
       "      <td>...</td>\n",
       "    </tr>\n",
       "    <tr>\n",
       "      <th>5698</th>\n",
       "      <td>2022-08-29</td>\n",
       "      <td>1748.4</td>\n",
       "      <td>1757.90</td>\n",
       "      <td>1731.40</td>\n",
       "      <td>1749.7</td>\n",
       "      <td>156220</td>\n",
       "      <td>USD</td>\n",
       "    </tr>\n",
       "    <tr>\n",
       "      <th>5699</th>\n",
       "      <td>2022-08-30</td>\n",
       "      <td>1749.8</td>\n",
       "      <td>1752.80</td>\n",
       "      <td>1732.90</td>\n",
       "      <td>1736.3</td>\n",
       "      <td>130664</td>\n",
       "      <td>USD</td>\n",
       "    </tr>\n",
       "    <tr>\n",
       "      <th>5700</th>\n",
       "      <td>2022-08-31</td>\n",
       "      <td>1735.5</td>\n",
       "      <td>1738.00</td>\n",
       "      <td>1720.60</td>\n",
       "      <td>1726.2</td>\n",
       "      <td>176731</td>\n",
       "      <td>USD</td>\n",
       "    </tr>\n",
       "    <tr>\n",
       "      <th>5701</th>\n",
       "      <td>2022-09-01</td>\n",
       "      <td>1723.0</td>\n",
       "      <td>1723.00</td>\n",
       "      <td>1699.10</td>\n",
       "      <td>1709.3</td>\n",
       "      <td>198618</td>\n",
       "      <td>USD</td>\n",
       "    </tr>\n",
       "    <tr>\n",
       "      <th>5702</th>\n",
       "      <td>2022-09-02</td>\n",
       "      <td>1707.9</td>\n",
       "      <td>1729.45</td>\n",
       "      <td>1707.05</td>\n",
       "      <td>1723.0</td>\n",
       "      <td>0</td>\n",
       "      <td>USD</td>\n",
       "    </tr>\n",
       "  </tbody>\n",
       "</table>\n",
       "<p>5703 rows × 7 columns</p>\n",
       "</div>"
      ],
      "text/plain": [
       "            Date    Open     High      Low   Close  Volume Currency\n",
       "0     2000-01-04   289.5   289.50   280.00   283.7   21621      USD\n",
       "1     2000-01-05   283.7   285.00   281.00   282.1   25448      USD\n",
       "2     2000-01-06   281.6   282.80   280.20   282.4   19055      USD\n",
       "3     2000-01-07   282.5   284.50   282.00   282.9   11266      USD\n",
       "4     2000-01-10   282.4   283.90   281.80   282.7   30603      USD\n",
       "...          ...     ...      ...      ...     ...     ...      ...\n",
       "5698  2022-08-29  1748.4  1757.90  1731.40  1749.7  156220      USD\n",
       "5699  2022-08-30  1749.8  1752.80  1732.90  1736.3  130664      USD\n",
       "5700  2022-08-31  1735.5  1738.00  1720.60  1726.2  176731      USD\n",
       "5701  2022-09-01  1723.0  1723.00  1699.10  1709.3  198618      USD\n",
       "5702  2022-09-02  1707.9  1729.45  1707.05  1723.0       0      USD\n",
       "\n",
       "[5703 rows x 7 columns]"
      ]
     },
     "execution_count": 407,
     "metadata": {},
     "output_type": "execute_result"
    }
   ],
   "source": [
    "df"
   ]
  },
  {
   "cell_type": "code",
   "execution_count": 408,
   "id": "9d25f249-edf5-4bda-97dc-bcde2637dd3b",
   "metadata": {},
   "outputs": [
    {
     "data": {
      "text/plain": [
       "Date         object\n",
       "Open        float64\n",
       "High        float64\n",
       "Low         float64\n",
       "Close       float64\n",
       "Volume        int64\n",
       "Currency     object\n",
       "dtype: object"
      ]
     },
     "execution_count": 408,
     "metadata": {},
     "output_type": "execute_result"
    }
   ],
   "source": [
    "df.dtypes"
   ]
  },
  {
   "cell_type": "code",
   "execution_count": 409,
   "id": "75cc6386-3875-43cf-a98d-a9b29ace5d32",
   "metadata": {},
   "outputs": [],
   "source": [
    "from sklearn.preprocessing import LabelEncoder"
   ]
  },
  {
   "cell_type": "code",
   "execution_count": 410,
   "id": "99fce6ea-2240-4b7a-84c0-e9f6f2f5f214",
   "metadata": {},
   "outputs": [],
   "source": [
    "le=LabelEncoder()"
   ]
  },
  {
   "cell_type": "code",
   "execution_count": 412,
   "id": "8da82400-1b0d-46c2-9c0d-fcd5f5a1d5af",
   "metadata": {},
   "outputs": [
    {
     "data": {
      "text/html": [
       "<div>\n",
       "<style scoped>\n",
       "    .dataframe tbody tr th:only-of-type {\n",
       "        vertical-align: middle;\n",
       "    }\n",
       "\n",
       "    .dataframe tbody tr th {\n",
       "        vertical-align: top;\n",
       "    }\n",
       "\n",
       "    .dataframe thead th {\n",
       "        text-align: right;\n",
       "    }\n",
       "</style>\n",
       "<table border=\"1\" class=\"dataframe\">\n",
       "  <thead>\n",
       "    <tr style=\"text-align: right;\">\n",
       "      <th></th>\n",
       "      <th>Date</th>\n",
       "      <th>Currency</th>\n",
       "    </tr>\n",
       "  </thead>\n",
       "  <tbody>\n",
       "    <tr>\n",
       "      <th>0</th>\n",
       "      <td>2000-01-04</td>\n",
       "      <td>USD</td>\n",
       "    </tr>\n",
       "    <tr>\n",
       "      <th>1</th>\n",
       "      <td>2000-01-05</td>\n",
       "      <td>USD</td>\n",
       "    </tr>\n",
       "    <tr>\n",
       "      <th>2</th>\n",
       "      <td>2000-01-06</td>\n",
       "      <td>USD</td>\n",
       "    </tr>\n",
       "    <tr>\n",
       "      <th>3</th>\n",
       "      <td>2000-01-07</td>\n",
       "      <td>USD</td>\n",
       "    </tr>\n",
       "    <tr>\n",
       "      <th>4</th>\n",
       "      <td>2000-01-10</td>\n",
       "      <td>USD</td>\n",
       "    </tr>\n",
       "    <tr>\n",
       "      <th>...</th>\n",
       "      <td>...</td>\n",
       "      <td>...</td>\n",
       "    </tr>\n",
       "    <tr>\n",
       "      <th>5698</th>\n",
       "      <td>2022-08-29</td>\n",
       "      <td>USD</td>\n",
       "    </tr>\n",
       "    <tr>\n",
       "      <th>5699</th>\n",
       "      <td>2022-08-30</td>\n",
       "      <td>USD</td>\n",
       "    </tr>\n",
       "    <tr>\n",
       "      <th>5700</th>\n",
       "      <td>2022-08-31</td>\n",
       "      <td>USD</td>\n",
       "    </tr>\n",
       "    <tr>\n",
       "      <th>5701</th>\n",
       "      <td>2022-09-01</td>\n",
       "      <td>USD</td>\n",
       "    </tr>\n",
       "    <tr>\n",
       "      <th>5702</th>\n",
       "      <td>2022-09-02</td>\n",
       "      <td>USD</td>\n",
       "    </tr>\n",
       "  </tbody>\n",
       "</table>\n",
       "<p>5703 rows × 2 columns</p>\n",
       "</div>"
      ],
      "text/plain": [
       "            Date Currency\n",
       "0     2000-01-04      USD\n",
       "1     2000-01-05      USD\n",
       "2     2000-01-06      USD\n",
       "3     2000-01-07      USD\n",
       "4     2000-01-10      USD\n",
       "...          ...      ...\n",
       "5698  2022-08-29      USD\n",
       "5699  2022-08-30      USD\n",
       "5700  2022-08-31      USD\n",
       "5701  2022-09-01      USD\n",
       "5702  2022-09-02      USD\n",
       "\n",
       "[5703 rows x 2 columns]"
      ]
     },
     "execution_count": 412,
     "metadata": {},
     "output_type": "execute_result"
    }
   ],
   "source": [
    "enc=df.select_dtypes(include=['object'])\n",
    "enc"
   ]
  },
  {
   "cell_type": "code",
   "execution_count": 413,
   "id": "d2817191-b26f-4930-85c7-f798bb4e0321",
   "metadata": {},
   "outputs": [
    {
     "data": {
      "text/plain": [
       "Date         object\n",
       "Open        float64\n",
       "High        float64\n",
       "Low         float64\n",
       "Close       float64\n",
       "Volume        int64\n",
       "Currency     object\n",
       "dtype: object"
      ]
     },
     "execution_count": 413,
     "metadata": {},
     "output_type": "execute_result"
    }
   ],
   "source": [
    "df.dtypes"
   ]
  },
  {
   "cell_type": "code",
   "execution_count": 414,
   "id": "8cf1e71c-b863-468e-9418-1691ce3156a4",
   "metadata": {},
   "outputs": [
    {
     "data": {
      "text/html": [
       "<div>\n",
       "<style scoped>\n",
       "    .dataframe tbody tr th:only-of-type {\n",
       "        vertical-align: middle;\n",
       "    }\n",
       "\n",
       "    .dataframe tbody tr th {\n",
       "        vertical-align: top;\n",
       "    }\n",
       "\n",
       "    .dataframe thead th {\n",
       "        text-align: right;\n",
       "    }\n",
       "</style>\n",
       "<table border=\"1\" class=\"dataframe\">\n",
       "  <thead>\n",
       "    <tr style=\"text-align: right;\">\n",
       "      <th></th>\n",
       "      <th>Date</th>\n",
       "      <th>Open</th>\n",
       "      <th>High</th>\n",
       "      <th>Low</th>\n",
       "      <th>Close</th>\n",
       "      <th>Volume</th>\n",
       "      <th>Currency</th>\n",
       "    </tr>\n",
       "  </thead>\n",
       "  <tbody>\n",
       "    <tr>\n",
       "      <th>0</th>\n",
       "      <td>0</td>\n",
       "      <td>289.5</td>\n",
       "      <td>289.50</td>\n",
       "      <td>280.00</td>\n",
       "      <td>283.7</td>\n",
       "      <td>21621</td>\n",
       "      <td>0</td>\n",
       "    </tr>\n",
       "    <tr>\n",
       "      <th>1</th>\n",
       "      <td>1</td>\n",
       "      <td>283.7</td>\n",
       "      <td>285.00</td>\n",
       "      <td>281.00</td>\n",
       "      <td>282.1</td>\n",
       "      <td>25448</td>\n",
       "      <td>0</td>\n",
       "    </tr>\n",
       "    <tr>\n",
       "      <th>2</th>\n",
       "      <td>2</td>\n",
       "      <td>281.6</td>\n",
       "      <td>282.80</td>\n",
       "      <td>280.20</td>\n",
       "      <td>282.4</td>\n",
       "      <td>19055</td>\n",
       "      <td>0</td>\n",
       "    </tr>\n",
       "    <tr>\n",
       "      <th>3</th>\n",
       "      <td>3</td>\n",
       "      <td>282.5</td>\n",
       "      <td>284.50</td>\n",
       "      <td>282.00</td>\n",
       "      <td>282.9</td>\n",
       "      <td>11266</td>\n",
       "      <td>0</td>\n",
       "    </tr>\n",
       "    <tr>\n",
       "      <th>4</th>\n",
       "      <td>4</td>\n",
       "      <td>282.4</td>\n",
       "      <td>283.90</td>\n",
       "      <td>281.80</td>\n",
       "      <td>282.7</td>\n",
       "      <td>30603</td>\n",
       "      <td>0</td>\n",
       "    </tr>\n",
       "    <tr>\n",
       "      <th>...</th>\n",
       "      <td>...</td>\n",
       "      <td>...</td>\n",
       "      <td>...</td>\n",
       "      <td>...</td>\n",
       "      <td>...</td>\n",
       "      <td>...</td>\n",
       "      <td>...</td>\n",
       "    </tr>\n",
       "    <tr>\n",
       "      <th>5698</th>\n",
       "      <td>5698</td>\n",
       "      <td>1748.4</td>\n",
       "      <td>1757.90</td>\n",
       "      <td>1731.40</td>\n",
       "      <td>1749.7</td>\n",
       "      <td>156220</td>\n",
       "      <td>0</td>\n",
       "    </tr>\n",
       "    <tr>\n",
       "      <th>5699</th>\n",
       "      <td>5699</td>\n",
       "      <td>1749.8</td>\n",
       "      <td>1752.80</td>\n",
       "      <td>1732.90</td>\n",
       "      <td>1736.3</td>\n",
       "      <td>130664</td>\n",
       "      <td>0</td>\n",
       "    </tr>\n",
       "    <tr>\n",
       "      <th>5700</th>\n",
       "      <td>5700</td>\n",
       "      <td>1735.5</td>\n",
       "      <td>1738.00</td>\n",
       "      <td>1720.60</td>\n",
       "      <td>1726.2</td>\n",
       "      <td>176731</td>\n",
       "      <td>0</td>\n",
       "    </tr>\n",
       "    <tr>\n",
       "      <th>5701</th>\n",
       "      <td>5701</td>\n",
       "      <td>1723.0</td>\n",
       "      <td>1723.00</td>\n",
       "      <td>1699.10</td>\n",
       "      <td>1709.3</td>\n",
       "      <td>198618</td>\n",
       "      <td>0</td>\n",
       "    </tr>\n",
       "    <tr>\n",
       "      <th>5702</th>\n",
       "      <td>5702</td>\n",
       "      <td>1707.9</td>\n",
       "      <td>1729.45</td>\n",
       "      <td>1707.05</td>\n",
       "      <td>1723.0</td>\n",
       "      <td>0</td>\n",
       "      <td>0</td>\n",
       "    </tr>\n",
       "  </tbody>\n",
       "</table>\n",
       "<p>5703 rows × 7 columns</p>\n",
       "</div>"
      ],
      "text/plain": [
       "      Date    Open     High      Low   Close  Volume  Currency\n",
       "0        0   289.5   289.50   280.00   283.7   21621         0\n",
       "1        1   283.7   285.00   281.00   282.1   25448         0\n",
       "2        2   281.6   282.80   280.20   282.4   19055         0\n",
       "3        3   282.5   284.50   282.00   282.9   11266         0\n",
       "4        4   282.4   283.90   281.80   282.7   30603         0\n",
       "...    ...     ...      ...      ...     ...     ...       ...\n",
       "5698  5698  1748.4  1757.90  1731.40  1749.7  156220         0\n",
       "5699  5699  1749.8  1752.80  1732.90  1736.3  130664         0\n",
       "5700  5700  1735.5  1738.00  1720.60  1726.2  176731         0\n",
       "5701  5701  1723.0  1723.00  1699.10  1709.3  198618         0\n",
       "5702  5702  1707.9  1729.45  1707.05  1723.0       0         0\n",
       "\n",
       "[5703 rows x 7 columns]"
      ]
     },
     "execution_count": 414,
     "metadata": {},
     "output_type": "execute_result"
    }
   ],
   "source": [
    "for i in ['Date','Currency']:\n",
    "    df[i]=le.fit_transform(df[i])\n",
    "df"
   ]
  },
  {
   "cell_type": "code",
   "execution_count": 415,
   "id": "a8dda885-fe13-446e-bcbd-12ac99e003d5",
   "metadata": {},
   "outputs": [
    {
     "data": {
      "text/plain": [
       "Date          int32\n",
       "Open        float64\n",
       "High        float64\n",
       "Low         float64\n",
       "Close       float64\n",
       "Volume        int64\n",
       "Currency      int32\n",
       "dtype: object"
      ]
     },
     "execution_count": 415,
     "metadata": {},
     "output_type": "execute_result"
    }
   ],
   "source": [
    "df.dtypes"
   ]
  },
  {
   "cell_type": "markdown",
   "id": "4fe496bc-7abb-46c9-b9ef-22b7b8e30761",
   "metadata": {},
   "source": [
    "# DATA SCALING"
   ]
  },
  {
   "cell_type": "code",
   "execution_count": 416,
   "id": "edf8c9b5-a3b8-4fa8-b999-6af7cad2ece4",
   "metadata": {},
   "outputs": [
    {
     "data": {
      "text/html": [
       "<div>\n",
       "<style scoped>\n",
       "    .dataframe tbody tr th:only-of-type {\n",
       "        vertical-align: middle;\n",
       "    }\n",
       "\n",
       "    .dataframe tbody tr th {\n",
       "        vertical-align: top;\n",
       "    }\n",
       "\n",
       "    .dataframe thead th {\n",
       "        text-align: right;\n",
       "    }\n",
       "</style>\n",
       "<table border=\"1\" class=\"dataframe\">\n",
       "  <thead>\n",
       "    <tr style=\"text-align: right;\">\n",
       "      <th></th>\n",
       "      <th>Date</th>\n",
       "      <th>Open</th>\n",
       "      <th>High</th>\n",
       "      <th>Low</th>\n",
       "      <th>Close</th>\n",
       "      <th>Volume</th>\n",
       "      <th>Currency</th>\n",
       "    </tr>\n",
       "  </thead>\n",
       "  <tbody>\n",
       "    <tr>\n",
       "      <th>0</th>\n",
       "      <td>0</td>\n",
       "      <td>289.5</td>\n",
       "      <td>289.5</td>\n",
       "      <td>280.0</td>\n",
       "      <td>283.7</td>\n",
       "      <td>21621</td>\n",
       "      <td>0</td>\n",
       "    </tr>\n",
       "    <tr>\n",
       "      <th>1</th>\n",
       "      <td>1</td>\n",
       "      <td>283.7</td>\n",
       "      <td>285.0</td>\n",
       "      <td>281.0</td>\n",
       "      <td>282.1</td>\n",
       "      <td>25448</td>\n",
       "      <td>0</td>\n",
       "    </tr>\n",
       "    <tr>\n",
       "      <th>2</th>\n",
       "      <td>2</td>\n",
       "      <td>281.6</td>\n",
       "      <td>282.8</td>\n",
       "      <td>280.2</td>\n",
       "      <td>282.4</td>\n",
       "      <td>19055</td>\n",
       "      <td>0</td>\n",
       "    </tr>\n",
       "    <tr>\n",
       "      <th>3</th>\n",
       "      <td>3</td>\n",
       "      <td>282.5</td>\n",
       "      <td>284.5</td>\n",
       "      <td>282.0</td>\n",
       "      <td>282.9</td>\n",
       "      <td>11266</td>\n",
       "      <td>0</td>\n",
       "    </tr>\n",
       "    <tr>\n",
       "      <th>4</th>\n",
       "      <td>4</td>\n",
       "      <td>282.4</td>\n",
       "      <td>283.9</td>\n",
       "      <td>281.8</td>\n",
       "      <td>282.7</td>\n",
       "      <td>30603</td>\n",
       "      <td>0</td>\n",
       "    </tr>\n",
       "  </tbody>\n",
       "</table>\n",
       "</div>"
      ],
      "text/plain": [
       "   Date   Open   High    Low  Close  Volume  Currency\n",
       "0     0  289.5  289.5  280.0  283.7   21621         0\n",
       "1     1  283.7  285.0  281.0  282.1   25448         0\n",
       "2     2  281.6  282.8  280.2  282.4   19055         0\n",
       "3     3  282.5  284.5  282.0  282.9   11266         0\n",
       "4     4  282.4  283.9  281.8  282.7   30603         0"
      ]
     },
     "execution_count": 416,
     "metadata": {},
     "output_type": "execute_result"
    }
   ],
   "source": [
    "df.head()"
   ]
  },
  {
   "cell_type": "code",
   "execution_count": 417,
   "id": "5e8057ed-2c69-477d-bd83-04c08eb4d2bc",
   "metadata": {},
   "outputs": [],
   "source": [
    "x = df.drop('Close',axis=1)\n",
    "y = df['Close']"
   ]
  },
  {
   "cell_type": "code",
   "execution_count": 418,
   "id": "fad02b35-dd59-469d-9500-b1f51728f487",
   "metadata": {},
   "outputs": [
    {
     "data": {
      "text/html": [
       "<div>\n",
       "<style scoped>\n",
       "    .dataframe tbody tr th:only-of-type {\n",
       "        vertical-align: middle;\n",
       "    }\n",
       "\n",
       "    .dataframe tbody tr th {\n",
       "        vertical-align: top;\n",
       "    }\n",
       "\n",
       "    .dataframe thead th {\n",
       "        text-align: right;\n",
       "    }\n",
       "</style>\n",
       "<table border=\"1\" class=\"dataframe\">\n",
       "  <thead>\n",
       "    <tr style=\"text-align: right;\">\n",
       "      <th></th>\n",
       "      <th>Date</th>\n",
       "      <th>Open</th>\n",
       "      <th>High</th>\n",
       "      <th>Low</th>\n",
       "      <th>Volume</th>\n",
       "      <th>Currency</th>\n",
       "    </tr>\n",
       "  </thead>\n",
       "  <tbody>\n",
       "    <tr>\n",
       "      <th>0</th>\n",
       "      <td>0</td>\n",
       "      <td>289.5</td>\n",
       "      <td>289.5</td>\n",
       "      <td>280.0</td>\n",
       "      <td>21621</td>\n",
       "      <td>0</td>\n",
       "    </tr>\n",
       "    <tr>\n",
       "      <th>1</th>\n",
       "      <td>1</td>\n",
       "      <td>283.7</td>\n",
       "      <td>285.0</td>\n",
       "      <td>281.0</td>\n",
       "      <td>25448</td>\n",
       "      <td>0</td>\n",
       "    </tr>\n",
       "    <tr>\n",
       "      <th>2</th>\n",
       "      <td>2</td>\n",
       "      <td>281.6</td>\n",
       "      <td>282.8</td>\n",
       "      <td>280.2</td>\n",
       "      <td>19055</td>\n",
       "      <td>0</td>\n",
       "    </tr>\n",
       "    <tr>\n",
       "      <th>3</th>\n",
       "      <td>3</td>\n",
       "      <td>282.5</td>\n",
       "      <td>284.5</td>\n",
       "      <td>282.0</td>\n",
       "      <td>11266</td>\n",
       "      <td>0</td>\n",
       "    </tr>\n",
       "    <tr>\n",
       "      <th>4</th>\n",
       "      <td>4</td>\n",
       "      <td>282.4</td>\n",
       "      <td>283.9</td>\n",
       "      <td>281.8</td>\n",
       "      <td>30603</td>\n",
       "      <td>0</td>\n",
       "    </tr>\n",
       "  </tbody>\n",
       "</table>\n",
       "</div>"
      ],
      "text/plain": [
       "   Date   Open   High    Low  Volume  Currency\n",
       "0     0  289.5  289.5  280.0   21621         0\n",
       "1     1  283.7  285.0  281.0   25448         0\n",
       "2     2  281.6  282.8  280.2   19055         0\n",
       "3     3  282.5  284.5  282.0   11266         0\n",
       "4     4  282.4  283.9  281.8   30603         0"
      ]
     },
     "execution_count": 418,
     "metadata": {},
     "output_type": "execute_result"
    }
   ],
   "source": [
    "x.head()"
   ]
  },
  {
   "cell_type": "code",
   "execution_count": 419,
   "id": "6b2335b3-ef8a-4107-bd5a-d94c23f6b0bd",
   "metadata": {},
   "outputs": [
    {
     "data": {
      "text/plain": [
       "0    283.7\n",
       "1    282.1\n",
       "2    282.4\n",
       "3    282.9\n",
       "4    282.7\n",
       "Name: Close, dtype: float64"
      ]
     },
     "execution_count": 419,
     "metadata": {},
     "output_type": "execute_result"
    }
   ],
   "source": [
    "y.head()"
   ]
  },
  {
   "cell_type": "code",
   "execution_count": 420,
   "id": "2b06b5fa-174f-48c1-af31-9523ada2d426",
   "metadata": {},
   "outputs": [
    {
     "data": {
      "text/plain": [
       "Index(['Date', 'Open', 'High', 'Low', 'Close', 'Volume', 'Currency'], dtype='object')"
      ]
     },
     "execution_count": 420,
     "metadata": {},
     "output_type": "execute_result"
    }
   ],
   "source": [
    "df.columns"
   ]
  },
  {
   "cell_type": "code",
   "execution_count": 421,
   "id": "88eb339d-9e2b-4812-b24c-525795565fec",
   "metadata": {},
   "outputs": [],
   "source": [
    "from sklearn.preprocessing import MinMaxScaler"
   ]
  },
  {
   "cell_type": "code",
   "execution_count": 422,
   "id": "b79f9c80-6f18-4397-a38d-bbcf1c03c4d5",
   "metadata": {},
   "outputs": [],
   "source": [
    "minmax=MinMaxScaler()"
   ]
  },
  {
   "cell_type": "code",
   "execution_count": 423,
   "id": "c76ea369-e54c-474f-b63d-1705d3988bc1",
   "metadata": {},
   "outputs": [],
   "source": [
    "x=minmax.fit_transform(x)"
   ]
  },
  {
   "cell_type": "code",
   "execution_count": 424,
   "id": "8bd4ae75-5fa1-4bc1-97fa-a1a1b45285fd",
   "metadata": {},
   "outputs": [
    {
     "data": {
      "text/plain": [
       "array([[0.00000000e+00, 1.80789098e-02, 1.64498852e-02, 1.38803724e-02,\n",
       "        2.64790926e-02, 0.00000000e+00],\n",
       "       [1.75377061e-04, 1.48917463e-02, 1.39906001e-02, 1.44378170e-02,\n",
       "        3.11659937e-02, 0.00000000e+00],\n",
       "       [3.50754121e-04, 1.37377734e-02, 1.27882829e-02, 1.39918613e-02,\n",
       "        2.33365298e-02, 0.00000000e+00],\n",
       "       ...,\n",
       "       [9.99649246e-01, 8.12671722e-01, 8.08066455e-01, 8.16935169e-01,\n",
       "        2.16441262e-01, 0.00000000e+00],\n",
       "       [9.99824623e-01, 8.05802835e-01, 7.99868838e-01, 8.04950109e-01,\n",
       "        2.43246123e-01, 0.00000000e+00],\n",
       "       [1.00000000e+00, 7.97505220e-01, 8.03393814e-01, 8.09381794e-01,\n",
       "        0.00000000e+00, 0.00000000e+00]])"
      ]
     },
     "execution_count": 424,
     "metadata": {},
     "output_type": "execute_result"
    }
   ],
   "source": [
    "x"
   ]
  },
  {
   "cell_type": "code",
   "execution_count": 426,
   "id": "1161fb38-f100-4bf9-b38a-2a5dd3ecf093",
   "metadata": {},
   "outputs": [],
   "source": [
    "a=pd.DataFrame(x,columns=['Date', 'Open', 'High', 'Low', 'Volume', 'Currency'])"
   ]
  },
  {
   "cell_type": "code",
   "execution_count": 427,
   "id": "27c66fe3-a203-4a3f-9c6f-a3e92173990b",
   "metadata": {},
   "outputs": [
    {
     "data": {
      "text/html": [
       "<div>\n",
       "<style scoped>\n",
       "    .dataframe tbody tr th:only-of-type {\n",
       "        vertical-align: middle;\n",
       "    }\n",
       "\n",
       "    .dataframe tbody tr th {\n",
       "        vertical-align: top;\n",
       "    }\n",
       "\n",
       "    .dataframe thead th {\n",
       "        text-align: right;\n",
       "    }\n",
       "</style>\n",
       "<table border=\"1\" class=\"dataframe\">\n",
       "  <thead>\n",
       "    <tr style=\"text-align: right;\">\n",
       "      <th></th>\n",
       "      <th>Date</th>\n",
       "      <th>Open</th>\n",
       "      <th>High</th>\n",
       "      <th>Low</th>\n",
       "      <th>Volume</th>\n",
       "      <th>Currency</th>\n",
       "    </tr>\n",
       "  </thead>\n",
       "  <tbody>\n",
       "    <tr>\n",
       "      <th>0</th>\n",
       "      <td>0.000000</td>\n",
       "      <td>0.018079</td>\n",
       "      <td>0.016450</td>\n",
       "      <td>0.013880</td>\n",
       "      <td>0.026479</td>\n",
       "      <td>0.0</td>\n",
       "    </tr>\n",
       "    <tr>\n",
       "      <th>1</th>\n",
       "      <td>0.000175</td>\n",
       "      <td>0.014892</td>\n",
       "      <td>0.013991</td>\n",
       "      <td>0.014438</td>\n",
       "      <td>0.031166</td>\n",
       "      <td>0.0</td>\n",
       "    </tr>\n",
       "    <tr>\n",
       "      <th>2</th>\n",
       "      <td>0.000351</td>\n",
       "      <td>0.013738</td>\n",
       "      <td>0.012788</td>\n",
       "      <td>0.013992</td>\n",
       "      <td>0.023337</td>\n",
       "      <td>0.0</td>\n",
       "    </tr>\n",
       "    <tr>\n",
       "      <th>3</th>\n",
       "      <td>0.000526</td>\n",
       "      <td>0.014232</td>\n",
       "      <td>0.013717</td>\n",
       "      <td>0.014995</td>\n",
       "      <td>0.013797</td>\n",
       "      <td>0.0</td>\n",
       "    </tr>\n",
       "    <tr>\n",
       "      <th>4</th>\n",
       "      <td>0.000702</td>\n",
       "      <td>0.014177</td>\n",
       "      <td>0.013389</td>\n",
       "      <td>0.014884</td>\n",
       "      <td>0.037479</td>\n",
       "      <td>0.0</td>\n",
       "    </tr>\n",
       "    <tr>\n",
       "      <th>...</th>\n",
       "      <td>...</td>\n",
       "      <td>...</td>\n",
       "      <td>...</td>\n",
       "      <td>...</td>\n",
       "      <td>...</td>\n",
       "      <td>...</td>\n",
       "    </tr>\n",
       "    <tr>\n",
       "      <th>5698</th>\n",
       "      <td>0.999298</td>\n",
       "      <td>0.819760</td>\n",
       "      <td>0.818942</td>\n",
       "      <td>0.822956</td>\n",
       "      <td>0.191322</td>\n",
       "      <td>0.0</td>\n",
       "    </tr>\n",
       "    <tr>\n",
       "      <th>5699</th>\n",
       "      <td>0.999474</td>\n",
       "      <td>0.820530</td>\n",
       "      <td>0.816155</td>\n",
       "      <td>0.823792</td>\n",
       "      <td>0.160023</td>\n",
       "      <td>0.0</td>\n",
       "    </tr>\n",
       "    <tr>\n",
       "      <th>5700</th>\n",
       "      <td>0.999649</td>\n",
       "      <td>0.812672</td>\n",
       "      <td>0.808066</td>\n",
       "      <td>0.816935</td>\n",
       "      <td>0.216441</td>\n",
       "      <td>0.0</td>\n",
       "    </tr>\n",
       "    <tr>\n",
       "      <th>5701</th>\n",
       "      <td>0.999825</td>\n",
       "      <td>0.805803</td>\n",
       "      <td>0.799869</td>\n",
       "      <td>0.804950</td>\n",
       "      <td>0.243246</td>\n",
       "      <td>0.0</td>\n",
       "    </tr>\n",
       "    <tr>\n",
       "      <th>5702</th>\n",
       "      <td>1.000000</td>\n",
       "      <td>0.797505</td>\n",
       "      <td>0.803394</td>\n",
       "      <td>0.809382</td>\n",
       "      <td>0.000000</td>\n",
       "      <td>0.0</td>\n",
       "    </tr>\n",
       "  </tbody>\n",
       "</table>\n",
       "<p>5703 rows × 6 columns</p>\n",
       "</div>"
      ],
      "text/plain": [
       "          Date      Open      High       Low    Volume  Currency\n",
       "0     0.000000  0.018079  0.016450  0.013880  0.026479       0.0\n",
       "1     0.000175  0.014892  0.013991  0.014438  0.031166       0.0\n",
       "2     0.000351  0.013738  0.012788  0.013992  0.023337       0.0\n",
       "3     0.000526  0.014232  0.013717  0.014995  0.013797       0.0\n",
       "4     0.000702  0.014177  0.013389  0.014884  0.037479       0.0\n",
       "...        ...       ...       ...       ...       ...       ...\n",
       "5698  0.999298  0.819760  0.818942  0.822956  0.191322       0.0\n",
       "5699  0.999474  0.820530  0.816155  0.823792  0.160023       0.0\n",
       "5700  0.999649  0.812672  0.808066  0.816935  0.216441       0.0\n",
       "5701  0.999825  0.805803  0.799869  0.804950  0.243246       0.0\n",
       "5702  1.000000  0.797505  0.803394  0.809382  0.000000       0.0\n",
       "\n",
       "[5703 rows x 6 columns]"
      ]
     },
     "execution_count": 427,
     "metadata": {},
     "output_type": "execute_result"
    }
   ],
   "source": [
    "a"
   ]
  },
  {
   "cell_type": "code",
   "execution_count": 428,
   "id": "13a19fc9-c06e-4f45-b5aa-c782be90cdfe",
   "metadata": {},
   "outputs": [
    {
     "data": {
      "text/html": [
       "<div>\n",
       "<style scoped>\n",
       "    .dataframe tbody tr th:only-of-type {\n",
       "        vertical-align: middle;\n",
       "    }\n",
       "\n",
       "    .dataframe tbody tr th {\n",
       "        vertical-align: top;\n",
       "    }\n",
       "\n",
       "    .dataframe thead th {\n",
       "        text-align: right;\n",
       "    }\n",
       "</style>\n",
       "<table border=\"1\" class=\"dataframe\">\n",
       "  <thead>\n",
       "    <tr style=\"text-align: right;\">\n",
       "      <th></th>\n",
       "      <th>Date</th>\n",
       "      <th>Open</th>\n",
       "      <th>High</th>\n",
       "      <th>Low</th>\n",
       "      <th>Volume</th>\n",
       "      <th>Currency</th>\n",
       "      <th>Close</th>\n",
       "    </tr>\n",
       "  </thead>\n",
       "  <tbody>\n",
       "    <tr>\n",
       "      <th>0</th>\n",
       "      <td>0.000000</td>\n",
       "      <td>0.018079</td>\n",
       "      <td>0.016450</td>\n",
       "      <td>0.013880</td>\n",
       "      <td>0.026479</td>\n",
       "      <td>0.0</td>\n",
       "      <td>283.7</td>\n",
       "    </tr>\n",
       "    <tr>\n",
       "      <th>1</th>\n",
       "      <td>0.000175</td>\n",
       "      <td>0.014892</td>\n",
       "      <td>0.013991</td>\n",
       "      <td>0.014438</td>\n",
       "      <td>0.031166</td>\n",
       "      <td>0.0</td>\n",
       "      <td>282.1</td>\n",
       "    </tr>\n",
       "    <tr>\n",
       "      <th>2</th>\n",
       "      <td>0.000351</td>\n",
       "      <td>0.013738</td>\n",
       "      <td>0.012788</td>\n",
       "      <td>0.013992</td>\n",
       "      <td>0.023337</td>\n",
       "      <td>0.0</td>\n",
       "      <td>282.4</td>\n",
       "    </tr>\n",
       "    <tr>\n",
       "      <th>3</th>\n",
       "      <td>0.000526</td>\n",
       "      <td>0.014232</td>\n",
       "      <td>0.013717</td>\n",
       "      <td>0.014995</td>\n",
       "      <td>0.013797</td>\n",
       "      <td>0.0</td>\n",
       "      <td>282.9</td>\n",
       "    </tr>\n",
       "    <tr>\n",
       "      <th>4</th>\n",
       "      <td>0.000702</td>\n",
       "      <td>0.014177</td>\n",
       "      <td>0.013389</td>\n",
       "      <td>0.014884</td>\n",
       "      <td>0.037479</td>\n",
       "      <td>0.0</td>\n",
       "      <td>282.7</td>\n",
       "    </tr>\n",
       "    <tr>\n",
       "      <th>...</th>\n",
       "      <td>...</td>\n",
       "      <td>...</td>\n",
       "      <td>...</td>\n",
       "      <td>...</td>\n",
       "      <td>...</td>\n",
       "      <td>...</td>\n",
       "      <td>...</td>\n",
       "    </tr>\n",
       "    <tr>\n",
       "      <th>5698</th>\n",
       "      <td>0.999298</td>\n",
       "      <td>0.819760</td>\n",
       "      <td>0.818942</td>\n",
       "      <td>0.822956</td>\n",
       "      <td>0.191322</td>\n",
       "      <td>0.0</td>\n",
       "      <td>1749.7</td>\n",
       "    </tr>\n",
       "    <tr>\n",
       "      <th>5699</th>\n",
       "      <td>0.999474</td>\n",
       "      <td>0.820530</td>\n",
       "      <td>0.816155</td>\n",
       "      <td>0.823792</td>\n",
       "      <td>0.160023</td>\n",
       "      <td>0.0</td>\n",
       "      <td>1736.3</td>\n",
       "    </tr>\n",
       "    <tr>\n",
       "      <th>5700</th>\n",
       "      <td>0.999649</td>\n",
       "      <td>0.812672</td>\n",
       "      <td>0.808066</td>\n",
       "      <td>0.816935</td>\n",
       "      <td>0.216441</td>\n",
       "      <td>0.0</td>\n",
       "      <td>1726.2</td>\n",
       "    </tr>\n",
       "    <tr>\n",
       "      <th>5701</th>\n",
       "      <td>0.999825</td>\n",
       "      <td>0.805803</td>\n",
       "      <td>0.799869</td>\n",
       "      <td>0.804950</td>\n",
       "      <td>0.243246</td>\n",
       "      <td>0.0</td>\n",
       "      <td>1709.3</td>\n",
       "    </tr>\n",
       "    <tr>\n",
       "      <th>5702</th>\n",
       "      <td>1.000000</td>\n",
       "      <td>0.797505</td>\n",
       "      <td>0.803394</td>\n",
       "      <td>0.809382</td>\n",
       "      <td>0.000000</td>\n",
       "      <td>0.0</td>\n",
       "      <td>1723.0</td>\n",
       "    </tr>\n",
       "  </tbody>\n",
       "</table>\n",
       "<p>5703 rows × 7 columns</p>\n",
       "</div>"
      ],
      "text/plain": [
       "          Date      Open      High       Low    Volume  Currency   Close\n",
       "0     0.000000  0.018079  0.016450  0.013880  0.026479       0.0   283.7\n",
       "1     0.000175  0.014892  0.013991  0.014438  0.031166       0.0   282.1\n",
       "2     0.000351  0.013738  0.012788  0.013992  0.023337       0.0   282.4\n",
       "3     0.000526  0.014232  0.013717  0.014995  0.013797       0.0   282.9\n",
       "4     0.000702  0.014177  0.013389  0.014884  0.037479       0.0   282.7\n",
       "...        ...       ...       ...       ...       ...       ...     ...\n",
       "5698  0.999298  0.819760  0.818942  0.822956  0.191322       0.0  1749.7\n",
       "5699  0.999474  0.820530  0.816155  0.823792  0.160023       0.0  1736.3\n",
       "5700  0.999649  0.812672  0.808066  0.816935  0.216441       0.0  1726.2\n",
       "5701  0.999825  0.805803  0.799869  0.804950  0.243246       0.0  1709.3\n",
       "5702  1.000000  0.797505  0.803394  0.809382  0.000000       0.0  1723.0\n",
       "\n",
       "[5703 rows x 7 columns]"
      ]
     },
     "execution_count": 428,
     "metadata": {},
     "output_type": "execute_result"
    }
   ],
   "source": [
    "finalout=pd.concat([a,y],axis=1)\n",
    "finalout"
   ]
  },
  {
   "cell_type": "code",
   "execution_count": 429,
   "id": "9a31d068-5dcc-43fc-9bad-c183267c6af6",
   "metadata": {},
   "outputs": [
    {
     "data": {
      "text/html": [
       "<div>\n",
       "<style scoped>\n",
       "    .dataframe tbody tr th:only-of-type {\n",
       "        vertical-align: middle;\n",
       "    }\n",
       "\n",
       "    .dataframe tbody tr th {\n",
       "        vertical-align: top;\n",
       "    }\n",
       "\n",
       "    .dataframe thead th {\n",
       "        text-align: right;\n",
       "    }\n",
       "</style>\n",
       "<table border=\"1\" class=\"dataframe\">\n",
       "  <thead>\n",
       "    <tr style=\"text-align: right;\">\n",
       "      <th></th>\n",
       "      <th>Date</th>\n",
       "      <th>Open</th>\n",
       "      <th>High</th>\n",
       "      <th>Low</th>\n",
       "      <th>Volume</th>\n",
       "      <th>Currency</th>\n",
       "      <th>Close</th>\n",
       "    </tr>\n",
       "  </thead>\n",
       "  <tbody>\n",
       "    <tr>\n",
       "      <th>count</th>\n",
       "      <td>5703.000000</td>\n",
       "      <td>5703.000000</td>\n",
       "      <td>5703.000000</td>\n",
       "      <td>5703.000000</td>\n",
       "      <td>5703.000000</td>\n",
       "      <td>5703.0</td>\n",
       "      <td>5703.000000</td>\n",
       "    </tr>\n",
       "    <tr>\n",
       "      <th>mean</th>\n",
       "      <td>0.500000</td>\n",
       "      <td>0.430697</td>\n",
       "      <td>0.431161</td>\n",
       "      <td>0.433002</td>\n",
       "      <td>0.170406</td>\n",
       "      <td>0.0</td>\n",
       "      <td>1040.298282</td>\n",
       "    </tr>\n",
       "    <tr>\n",
       "      <th>std</th>\n",
       "      <td>0.288751</td>\n",
       "      <td>0.285050</td>\n",
       "      <td>0.285471</td>\n",
       "      <td>0.286781</td>\n",
       "      <td>0.125577</td>\n",
       "      <td>0.0</td>\n",
       "      <td>518.524020</td>\n",
       "    </tr>\n",
       "    <tr>\n",
       "      <th>min</th>\n",
       "      <td>0.000000</td>\n",
       "      <td>0.000000</td>\n",
       "      <td>0.000000</td>\n",
       "      <td>0.000000</td>\n",
       "      <td>0.000000</td>\n",
       "      <td>0.0</td>\n",
       "      <td>256.600000</td>\n",
       "    </tr>\n",
       "    <tr>\n",
       "      <th>25%</th>\n",
       "      <td>0.250000</td>\n",
       "      <td>0.111688</td>\n",
       "      <td>0.111761</td>\n",
       "      <td>0.112799</td>\n",
       "      <td>0.064833</td>\n",
       "      <td>0.0</td>\n",
       "      <td>460.500000</td>\n",
       "    </tr>\n",
       "    <tr>\n",
       "      <th>50%</th>\n",
       "      <td>0.500000</td>\n",
       "      <td>0.512254</td>\n",
       "      <td>0.512952</td>\n",
       "      <td>0.515413</td>\n",
       "      <td>0.154319</td>\n",
       "      <td>0.0</td>\n",
       "      <td>1188.700000</td>\n",
       "    </tr>\n",
       "    <tr>\n",
       "      <th>75%</th>\n",
       "      <td>0.750000</td>\n",
       "      <td>0.618090</td>\n",
       "      <td>0.619385</td>\n",
       "      <td>0.620436</td>\n",
       "      <td>0.236499</td>\n",
       "      <td>0.0</td>\n",
       "      <td>1383.050000</td>\n",
       "    </tr>\n",
       "    <tr>\n",
       "      <th>max</th>\n",
       "      <td>1.000000</td>\n",
       "      <td>1.000000</td>\n",
       "      <td>1.000000</td>\n",
       "      <td>1.000000</td>\n",
       "      <td>1.000000</td>\n",
       "      <td>0.0</td>\n",
       "      <td>2069.400000</td>\n",
       "    </tr>\n",
       "  </tbody>\n",
       "</table>\n",
       "</div>"
      ],
      "text/plain": [
       "              Date         Open         High          Low       Volume  \\\n",
       "count  5703.000000  5703.000000  5703.000000  5703.000000  5703.000000   \n",
       "mean      0.500000     0.430697     0.431161     0.433002     0.170406   \n",
       "std       0.288751     0.285050     0.285471     0.286781     0.125577   \n",
       "min       0.000000     0.000000     0.000000     0.000000     0.000000   \n",
       "25%       0.250000     0.111688     0.111761     0.112799     0.064833   \n",
       "50%       0.500000     0.512254     0.512952     0.515413     0.154319   \n",
       "75%       0.750000     0.618090     0.619385     0.620436     0.236499   \n",
       "max       1.000000     1.000000     1.000000     1.000000     1.000000   \n",
       "\n",
       "       Currency        Close  \n",
       "count    5703.0  5703.000000  \n",
       "mean        0.0  1040.298282  \n",
       "std         0.0   518.524020  \n",
       "min         0.0   256.600000  \n",
       "25%         0.0   460.500000  \n",
       "50%         0.0  1188.700000  \n",
       "75%         0.0  1383.050000  \n",
       "max         0.0  2069.400000  "
      ]
     },
     "execution_count": 429,
     "metadata": {},
     "output_type": "execute_result"
    }
   ],
   "source": [
    "finalout.describe()"
   ]
  },
  {
   "cell_type": "markdown",
   "id": "b337481e-2fd9-4aff-84da-857d985dcdee",
   "metadata": {},
   "source": [
    "# DATA VISUALISING"
   ]
  },
  {
   "cell_type": "code",
   "execution_count": 431,
   "id": "d6dabc26-a0dc-457c-b594-73df0f8740c4",
   "metadata": {},
   "outputs": [
    {
     "data": {
      "text/plain": [
       "<Axes: xlabel='High', ylabel='Density'>"
      ]
     },
     "execution_count": 431,
     "metadata": {},
     "output_type": "execute_result"
    },
    {
     "data": {
      "image/png": "[encoded data removed]",
      "text/plain": [
       "<Figure size 640x480 with 1 Axes>"
      ]
     },
     "metadata": {},
     "output_type": "display_data"
    }
   ],
   "source": [
    "sns.kdeplot(finalout['High'],color='orange')"
   ]
  },
  {
   "cell_type": "code",
   "execution_count": 432,
   "id": "b14ee74f-a0a2-4292-bd50-9db2102ec961",
   "metadata": {},
   "outputs": [
    {
     "data": {
      "text/plain": [
       "<seaborn.axisgrid.JointGrid at 0x1f5eb65ad10>"
      ]
     },
     "execution_count": 432,
     "metadata": {},
     "output_type": "execute_result"
    },
    {
     "data": {
      "image/png": "[encoded data removed]",
      "text/plain": [
       "<Figure size 600x600 with 3 Axes>"
      ]
     },
     "metadata": {},
     "output_type": "display_data"
    }
   ],
   "source": [
    "sns.jointplot(x='Open', y='Close',color='b',data=finalout)"
   ]
  },
  {
   "cell_type": "code",
   "execution_count": null,
   "id": "7dec7b16-f4af-463b-80f3-828bc7d548d0",
   "metadata": {},
   "outputs": [],
   "source": [
    "sns.pairplot(finalout,hue='Close',palette='coolwarm')"
   ]
  },
  {
   "cell_type": "code",
   "execution_count": 433,
   "id": "cc5bcc55-1e07-4546-9c93-76139286dbb4",
   "metadata": {},
   "outputs": [
    {
     "data": {
      "text/html": [
       "<div>\n",
       "<style scoped>\n",
       "    .dataframe tbody tr th:only-of-type {\n",
       "        vertical-align: middle;\n",
       "    }\n",
       "\n",
       "    .dataframe tbody tr th {\n",
       "        vertical-align: top;\n",
       "    }\n",
       "\n",
       "    .dataframe thead th {\n",
       "        text-align: right;\n",
       "    }\n",
       "</style>\n",
       "<table border=\"1\" class=\"dataframe\">\n",
       "  <thead>\n",
       "    <tr style=\"text-align: right;\">\n",
       "      <th></th>\n",
       "      <th>Date</th>\n",
       "      <th>Open</th>\n",
       "      <th>High</th>\n",
       "      <th>Low</th>\n",
       "      <th>Volume</th>\n",
       "      <th>Currency</th>\n",
       "      <th>Close</th>\n",
       "    </tr>\n",
       "  </thead>\n",
       "  <tbody>\n",
       "    <tr>\n",
       "      <th>Date</th>\n",
       "      <td>1.000000</td>\n",
       "      <td>0.901709</td>\n",
       "      <td>0.901013</td>\n",
       "      <td>0.902800</td>\n",
       "      <td>0.763260</td>\n",
       "      <td>NaN</td>\n",
       "      <td>0.901747</td>\n",
       "    </tr>\n",
       "    <tr>\n",
       "      <th>Open</th>\n",
       "      <td>0.901709</td>\n",
       "      <td>1.000000</td>\n",
       "      <td>0.999879</td>\n",
       "      <td>0.999825</td>\n",
       "      <td>0.692123</td>\n",
       "      <td>NaN</td>\n",
       "      <td>0.999740</td>\n",
       "    </tr>\n",
       "    <tr>\n",
       "      <th>High</th>\n",
       "      <td>0.901013</td>\n",
       "      <td>0.999879</td>\n",
       "      <td>1.000000</td>\n",
       "      <td>0.999778</td>\n",
       "      <td>0.693861</td>\n",
       "      <td>NaN</td>\n",
       "      <td>0.999861</td>\n",
       "    </tr>\n",
       "    <tr>\n",
       "      <th>Low</th>\n",
       "      <td>0.902800</td>\n",
       "      <td>0.999825</td>\n",
       "      <td>0.999778</td>\n",
       "      <td>1.000000</td>\n",
       "      <td>0.688983</td>\n",
       "      <td>NaN</td>\n",
       "      <td>0.999893</td>\n",
       "    </tr>\n",
       "    <tr>\n",
       "      <th>Volume</th>\n",
       "      <td>0.763260</td>\n",
       "      <td>0.692123</td>\n",
       "      <td>0.693861</td>\n",
       "      <td>0.688983</td>\n",
       "      <td>1.000000</td>\n",
       "      <td>NaN</td>\n",
       "      <td>0.690534</td>\n",
       "    </tr>\n",
       "    <tr>\n",
       "      <th>Currency</th>\n",
       "      <td>NaN</td>\n",
       "      <td>NaN</td>\n",
       "      <td>NaN</td>\n",
       "      <td>NaN</td>\n",
       "      <td>NaN</td>\n",
       "      <td>NaN</td>\n",
       "      <td>NaN</td>\n",
       "    </tr>\n",
       "    <tr>\n",
       "      <th>Close</th>\n",
       "      <td>0.901747</td>\n",
       "      <td>0.999740</td>\n",
       "      <td>0.999861</td>\n",
       "      <td>0.999893</td>\n",
       "      <td>0.690534</td>\n",
       "      <td>NaN</td>\n",
       "      <td>1.000000</td>\n",
       "    </tr>\n",
       "  </tbody>\n",
       "</table>\n",
       "</div>"
      ],
      "text/plain": [
       "              Date      Open      High       Low    Volume  Currency     Close\n",
       "Date      1.000000  0.901709  0.901013  0.902800  0.763260       NaN  0.901747\n",
       "Open      0.901709  1.000000  0.999879  0.999825  0.692123       NaN  0.999740\n",
       "High      0.901013  0.999879  1.000000  0.999778  0.693861       NaN  0.999861\n",
       "Low       0.902800  0.999825  0.999778  1.000000  0.688983       NaN  0.999893\n",
       "Volume    0.763260  0.692123  0.693861  0.688983  1.000000       NaN  0.690534\n",
       "Currency       NaN       NaN       NaN       NaN       NaN       NaN       NaN\n",
       "Close     0.901747  0.999740  0.999861  0.999893  0.690534       NaN  1.000000"
      ]
     },
     "execution_count": 433,
     "metadata": {},
     "output_type": "execute_result"
    }
   ],
   "source": [
    "finalout.corr()"
   ]
  },
  {
   "cell_type": "code",
   "execution_count": 434,
   "id": "d23fbbf7-db60-4f90-8c39-60f0861046ce",
   "metadata": {},
   "outputs": [
    {
     "data": {
      "text/plain": [
       "<Axes: >"
      ]
     },
     "execution_count": 434,
     "metadata": {},
     "output_type": "execute_result"
    },
    {
     "data": {
      "image/png": "[encoded data removed]",
      "text/plain": [
       "<Figure size 640x480 with 2 Axes>"
      ]
     },
     "metadata": {},
     "output_type": "display_data"
    }
   ],
   "source": [
    "sns.heatmap(finalout.corr())"
   ]
  },
  {
   "cell_type": "markdown",
   "id": "921718bc-bb51-4faa-a0cd-d1875825a035",
   "metadata": {},
   "source": [
    "# ML"
   ]
  },
  {
   "cell_type": "code",
   "execution_count": 436,
   "id": "1ffc83bb-3186-46d9-9ca3-cd1f9aebe216",
   "metadata": {},
   "outputs": [],
   "source": [
    "# lin regg\n",
    "x=finalout.drop('Close',axis=1)\n",
    "y=finalout['Close']"
   ]
  },
  {
   "cell_type": "code",
   "execution_count": 437,
   "id": "699cf3ad-869a-4769-8e65-5db26ef4bf22",
   "metadata": {},
   "outputs": [
    {
     "data": {
      "text/html": [
       "<div>\n",
       "<style scoped>\n",
       "    .dataframe tbody tr th:only-of-type {\n",
       "        vertical-align: middle;\n",
       "    }\n",
       "\n",
       "    .dataframe tbody tr th {\n",
       "        vertical-align: top;\n",
       "    }\n",
       "\n",
       "    .dataframe thead th {\n",
       "        text-align: right;\n",
       "    }\n",
       "</style>\n",
       "<table border=\"1\" class=\"dataframe\">\n",
       "  <thead>\n",
       "    <tr style=\"text-align: right;\">\n",
       "      <th></th>\n",
       "      <th>Date</th>\n",
       "      <th>Open</th>\n",
       "      <th>High</th>\n",
       "      <th>Low</th>\n",
       "      <th>Volume</th>\n",
       "      <th>Currency</th>\n",
       "    </tr>\n",
       "  </thead>\n",
       "  <tbody>\n",
       "    <tr>\n",
       "      <th>0</th>\n",
       "      <td>0.000000</td>\n",
       "      <td>0.018079</td>\n",
       "      <td>0.016450</td>\n",
       "      <td>0.013880</td>\n",
       "      <td>0.026479</td>\n",
       "      <td>0.0</td>\n",
       "    </tr>\n",
       "    <tr>\n",
       "      <th>1</th>\n",
       "      <td>0.000175</td>\n",
       "      <td>0.014892</td>\n",
       "      <td>0.013991</td>\n",
       "      <td>0.014438</td>\n",
       "      <td>0.031166</td>\n",
       "      <td>0.0</td>\n",
       "    </tr>\n",
       "    <tr>\n",
       "      <th>2</th>\n",
       "      <td>0.000351</td>\n",
       "      <td>0.013738</td>\n",
       "      <td>0.012788</td>\n",
       "      <td>0.013992</td>\n",
       "      <td>0.023337</td>\n",
       "      <td>0.0</td>\n",
       "    </tr>\n",
       "    <tr>\n",
       "      <th>3</th>\n",
       "      <td>0.000526</td>\n",
       "      <td>0.014232</td>\n",
       "      <td>0.013717</td>\n",
       "      <td>0.014995</td>\n",
       "      <td>0.013797</td>\n",
       "      <td>0.0</td>\n",
       "    </tr>\n",
       "    <tr>\n",
       "      <th>4</th>\n",
       "      <td>0.000702</td>\n",
       "      <td>0.014177</td>\n",
       "      <td>0.013389</td>\n",
       "      <td>0.014884</td>\n",
       "      <td>0.037479</td>\n",
       "      <td>0.0</td>\n",
       "    </tr>\n",
       "  </tbody>\n",
       "</table>\n",
       "</div>"
      ],
      "text/plain": [
       "       Date      Open      High       Low    Volume  Currency\n",
       "0  0.000000  0.018079  0.016450  0.013880  0.026479       0.0\n",
       "1  0.000175  0.014892  0.013991  0.014438  0.031166       0.0\n",
       "2  0.000351  0.013738  0.012788  0.013992  0.023337       0.0\n",
       "3  0.000526  0.014232  0.013717  0.014995  0.013797       0.0\n",
       "4  0.000702  0.014177  0.013389  0.014884  0.037479       0.0"
      ]
     },
     "execution_count": 437,
     "metadata": {},
     "output_type": "execute_result"
    }
   ],
   "source": [
    "x.head()"
   ]
  },
  {
   "cell_type": "code",
   "execution_count": 438,
   "id": "9bcfb0bf-ab74-4230-b405-97b8b6385a3c",
   "metadata": {},
   "outputs": [
    {
     "data": {
      "text/plain": [
       "0    283.7\n",
       "1    282.1\n",
       "2    282.4\n",
       "3    282.9\n",
       "4    282.7\n",
       "Name: Close, dtype: float64"
      ]
     },
     "execution_count": 438,
     "metadata": {},
     "output_type": "execute_result"
    }
   ],
   "source": [
    "y.head()"
   ]
  },
  {
   "cell_type": "code",
   "execution_count": 439,
   "id": "2ef16ca2-240c-450c-a060-a63b7ab41865",
   "metadata": {},
   "outputs": [],
   "source": [
    "from sklearn.model_selection import train_test_split"
   ]
  },
  {
   "cell_type": "code",
   "execution_count": 440,
   "id": "4a9e9e59-aa42-4769-92a1-01787c7ecfad",
   "metadata": {},
   "outputs": [],
   "source": [
    "x_train,x_test,y_train,y_test=train_test_split(x,y,test_size=0.25,random_state=42)"
   ]
  },
  {
   "cell_type": "code",
   "execution_count": 441,
   "id": "e467672a-6926-4f9a-8353-708fdfc72bba",
   "metadata": {},
   "outputs": [],
   "source": [
    "from sklearn.linear_model import LinearRegression"
   ]
  },
  {
   "cell_type": "code",
   "execution_count": 442,
   "id": "ff711480-1cfe-43a3-a1b5-388fe74df368",
   "metadata": {},
   "outputs": [],
   "source": [
    "lr=LinearRegression()"
   ]
  },
  {
   "cell_type": "code",
   "execution_count": 443,
   "id": "cec919fe-c7e6-487f-8d27-001fa56402f7",
   "metadata": {},
   "outputs": [],
   "source": [
    "model=lr.fit(x_train,y_train)"
   ]
  },
  {
   "cell_type": "code",
   "execution_count": 444,
   "id": "6f665c08-5ffd-496d-b40d-72b1f2301daa",
   "metadata": {},
   "outputs": [],
   "source": [
    "y_pred=model.predict(x_test)"
   ]
  },
  {
   "cell_type": "code",
   "execution_count": 445,
   "id": "1aebf1a1-f6df-47ca-99db-32fb43f9afc2",
   "metadata": {},
   "outputs": [
    {
     "name": "stdout",
     "output_type": "stream",
     "text": [
      "[ 470.67706641  349.82491596 1272.43597438 ...  624.57931935  873.75337935\n",
      " 1191.00524546]\n"
     ]
    }
   ],
   "source": [
    "print(y_pred)"
   ]
  },
  {
   "cell_type": "code",
   "execution_count": 446,
   "id": "436053e2-a9c7-4963-acb3-28063eb4e09d",
   "metadata": {},
   "outputs": [
    {
     "name": "stdout",
     "output_type": "stream",
     "text": [
      "1436     469.3\n",
      "748      351.6\n",
      "3463    1268.2\n",
      "1448     463.2\n",
      "4351    1277.5\n",
      "         ...  \n",
      "2876    1526.2\n",
      "5691    1771.2\n",
      "1740     625.4\n",
      "2323     872.8\n",
      "3846    1186.9\n",
      "Name: Close, Length: 1426, dtype: float64\n"
     ]
    }
   ],
   "source": [
    "print(y_test)"
   ]
  },
  {
   "cell_type": "code",
   "execution_count": 447,
   "id": "19152734-31f0-4d65-9092-4ef7f0586925",
   "metadata": {},
   "outputs": [],
   "source": [
    "from sklearn.metrics import mean_squared_error,r2_score"
   ]
  },
  {
   "cell_type": "code",
   "execution_count": 448,
   "id": "3116d4dc-a729-4794-8dd8-155bab999ec5",
   "metadata": {},
   "outputs": [
    {
     "name": "stdout",
     "output_type": "stream",
     "text": [
      "21.717699328389127\n"
     ]
    }
   ],
   "source": [
    "print(mean_squared_error(y_test,y_pred))"
   ]
  },
  {
   "cell_type": "code",
   "execution_count": 449,
   "id": "9f919b8d-80e9-4eab-b628-829358d0ce7c",
   "metadata": {},
   "outputs": [
    {
     "name": "stdout",
     "output_type": "stream",
     "text": [
      "0.9999222384481005\n"
     ]
    }
   ],
   "source": [
    "print(r2_score(y_test,y_pred))"
   ]
  },
  {
   "cell_type": "code",
   "execution_count": 499,
   "id": "f3f8431c-df1e-479b-89ab-6065e4ec5a6f",
   "metadata": {},
   "outputs": [
    {
     "data": {
      "text/html": [
       "<div>\n",
       "<style scoped>\n",
       "    .dataframe tbody tr th:only-of-type {\n",
       "        vertical-align: middle;\n",
       "    }\n",
       "\n",
       "    .dataframe tbody tr th {\n",
       "        vertical-align: top;\n",
       "    }\n",
       "\n",
       "    .dataframe thead th {\n",
       "        text-align: right;\n",
       "    }\n",
       "</style>\n",
       "<table border=\"1\" class=\"dataframe\">\n",
       "  <thead>\n",
       "    <tr style=\"text-align: right;\">\n",
       "      <th></th>\n",
       "      <th>Date</th>\n",
       "      <th>Open</th>\n",
       "      <th>High</th>\n",
       "      <th>Low</th>\n",
       "      <th>Volume</th>\n",
       "      <th>Currency</th>\n",
       "    </tr>\n",
       "  </thead>\n",
       "  <tbody>\n",
       "    <tr>\n",
       "      <th>376</th>\n",
       "      <td>0.065942</td>\n",
       "      <td>0.006100</td>\n",
       "      <td>0.005137</td>\n",
       "      <td>0.005686</td>\n",
       "      <td>0.030087</td>\n",
       "      <td>0.0</td>\n",
       "    </tr>\n",
       "    <tr>\n",
       "      <th>5240</th>\n",
       "      <td>0.918976</td>\n",
       "      <td>0.890428</td>\n",
       "      <td>0.895016</td>\n",
       "      <td>0.902057</td>\n",
       "      <td>0.202005</td>\n",
       "      <td>0.0</td>\n",
       "    </tr>\n",
       "    <tr>\n",
       "      <th>859</th>\n",
       "      <td>0.150649</td>\n",
       "      <td>0.053577</td>\n",
       "      <td>0.053722</td>\n",
       "      <td>0.053961</td>\n",
       "      <td>0.035356</td>\n",
       "      <td>0.0</td>\n",
       "    </tr>\n",
       "    <tr>\n",
       "      <th>1485</th>\n",
       "      <td>0.260435</td>\n",
       "      <td>0.147434</td>\n",
       "      <td>0.145262</td>\n",
       "      <td>0.141256</td>\n",
       "      <td>0.105597</td>\n",
       "      <td>0.0</td>\n",
       "    </tr>\n",
       "    <tr>\n",
       "      <th>4909</th>\n",
       "      <td>0.860926</td>\n",
       "      <td>0.631718</td>\n",
       "      <td>0.633676</td>\n",
       "      <td>0.640727</td>\n",
       "      <td>0.348997</td>\n",
       "      <td>0.0</td>\n",
       "    </tr>\n",
       "  </tbody>\n",
       "</table>\n",
       "</div>"
      ],
      "text/plain": [
       "          Date      Open      High       Low    Volume  Currency\n",
       "376   0.065942  0.006100  0.005137  0.005686  0.030087       0.0\n",
       "5240  0.918976  0.890428  0.895016  0.902057  0.202005       0.0\n",
       "859   0.150649  0.053577  0.053722  0.053961  0.035356       0.0\n",
       "1485  0.260435  0.147434  0.145262  0.141256  0.105597       0.0\n",
       "4909  0.860926  0.631718  0.633676  0.640727  0.348997       0.0"
      ]
     },
     "execution_count": 499,
     "metadata": {},
     "output_type": "execute_result"
    }
   ],
   "source": [
    "x_train.head(5)"
   ]
  },
  {
   "cell_type": "code",
   "execution_count": 500,
   "id": "3b40f1f4-5a2a-448e-aa2c-4805db910162",
   "metadata": {},
   "outputs": [
    {
     "data": {
      "text/plain": [
       "376      265.8\n",
       "5240    1892.5\n",
       "859      357.2\n",
       "1485     509.5\n",
       "4909    1412.2\n",
       "Name: Close, dtype: float64"
      ]
     },
     "execution_count": 500,
     "metadata": {},
     "output_type": "execute_result"
    }
   ],
   "source": [
    "y_train.head(5)"
   ]
  },
  {
   "cell_type": "code",
   "execution_count": 501,
   "id": "8aceab05-cfb1-4aba-912e-2b284e647bd1",
   "metadata": {},
   "outputs": [
    {
     "name": "stderr",
     "output_type": "stream",
     "text": [
      "C:\\Users\\Asus\\anaconda3\\Lib\\site-packages\\sklearn\\base.py:439: UserWarning: X does not have valid feature names, but LinearRegression was fitted with feature names\n",
      "  warnings.warn(\n"
     ]
    },
    {
     "data": {
      "text/plain": [
       "array([266.73256969])"
      ]
     },
     "execution_count": 501,
     "metadata": {},
     "output_type": "execute_result"
    }
   ],
   "source": [
    "model.predict([[0.065942,\t0.006100,\t0.005137,\t0.005686,\t0.030087,\t0.0]])"
   ]
  },
  {
   "cell_type": "code",
   "execution_count": 503,
   "id": "f996e6e1-64a2-4f5f-94a0-e7bd291fe81f",
   "metadata": {},
   "outputs": [
    {
     "name": "stderr",
     "output_type": "stream",
     "text": [
      "C:\\Users\\Asus\\anaconda3\\Lib\\site-packages\\sklearn\\base.py:439: UserWarning: X does not have valid feature names, but LinearRegression was fitted with feature names\n",
      "  warnings.warn(\n"
     ]
    },
    {
     "data": {
      "text/plain": [
       "array([1890.72896215])"
      ]
     },
     "execution_count": 503,
     "metadata": {},
     "output_type": "execute_result"
    }
   ],
   "source": [
    "model.predict([[0.918976,\t0.890428\t,0.895016,\t0.902057,\t0.202005,\t0.0]])"
   ]
  },
  {
   "cell_type": "code",
   "execution_count": 504,
   "id": "a379dfb4-7c28-45a8-9ee8-02d9e27add42",
   "metadata": {},
   "outputs": [
    {
     "name": "stderr",
     "output_type": "stream",
     "text": [
      "C:\\Users\\Asus\\anaconda3\\Lib\\site-packages\\sklearn\\base.py:439: UserWarning: X does not have valid feature names, but LinearRegression was fitted with feature names\n",
      "  warnings.warn(\n"
     ]
    },
    {
     "data": {
      "text/plain": [
       "array([355.19686893])"
      ]
     },
     "execution_count": 504,
     "metadata": {},
     "output_type": "execute_result"
    }
   ],
   "source": [
    "model.predict([[0.150649,\t0.053577,\t0.053722,\t0.053961,\t0.035356,\t0.0]])"
   ]
  },
  {
   "cell_type": "code",
   "execution_count": null,
   "id": "7114fcc8-4ad7-465a-b9b7-8f483bd39e2f",
   "metadata": {},
   "outputs": [],
   "source": [
    "# ACCURACY OF LIN REG MODEL IS 99%"
   ]
  },
  {
   "cell_type": "markdown",
   "id": "f7747c59-707c-4863-aaa3-1e07dcaa3571",
   "metadata": {},
   "source": [
    "# KNN MODEL"
   ]
  },
  {
   "cell_type": "code",
   "execution_count": 450,
   "id": "1d6cb3f4-9108-42ba-b362-947ef364bb11",
   "metadata": {},
   "outputs": [],
   "source": [
    "from sklearn.model_selection import train_test_split"
   ]
  },
  {
   "cell_type": "code",
   "execution_count": 451,
   "id": "7804d2a0-de04-4c90-9040-71071e03f5ba",
   "metadata": {},
   "outputs": [],
   "source": [
    "x_train,x_test,y_train,y_test=train_test_split(x,y,test_size=0.25,random_state=42)"
   ]
  },
  {
   "cell_type": "code",
   "execution_count": 452,
   "id": "703326f6-ded1-4e9c-a06a-81e022f5dc88",
   "metadata": {},
   "outputs": [],
   "source": [
    "from sklearn.neighbors import KNeighborsRegressor  \n",
    "from sklearn.metrics import mean_squared_error,r2_score\n",
    "metric_k= []\n",
    "neighbors = np.arange(2, 15)\n",
    "\n",
    "for k in neighbors:\n",
    "    knn=KNeighborsRegressor(n_neighbors=k)\n",
    "    model2=knn.fit(x_train,y_train)\n",
    "    y_pred_knn=model2.predict(x_test)\n",
    "    accuracy=r2_score(y_test,y_pred_knn)\n",
    "    metric_k.append(accuracy)"
   ]
  },
  {
   "cell_type": "code",
   "execution_count": 453,
   "id": "2f98752c-9eea-4d81-af73-ac6ef676572f",
   "metadata": {},
   "outputs": [
    {
     "data": {
      "text/plain": [
       "[0.9995305243461946,\n",
       " 0.9995854168186882,\n",
       " 0.9995877920409472,\n",
       " 0.9995788167603239,\n",
       " 0.9995741207513706,\n",
       " 0.99956779793464,\n",
       " 0.999568243124189,\n",
       " 0.9995630501126916,\n",
       " 0.9995504833036097,\n",
       " 0.9995352349302965,\n",
       " 0.9995399542070956,\n",
       " 0.9995364937115541,\n",
       " 0.9995292721639986]"
      ]
     },
     "execution_count": 453,
     "metadata": {},
     "output_type": "execute_result"
    }
   ],
   "source": [
    "metric_k"
   ]
  },
  {
   "cell_type": "code",
   "execution_count": 454,
   "id": "14901b71-7231-47ed-8cca-e3c72feed065",
   "metadata": {},
   "outputs": [
    {
     "data": {
      "image/png": "[encoded data removed]",
      "text/plain": [
       "<Figure size 640x480 with 1 Axes>"
      ]
     },
     "metadata": {},
     "output_type": "display_data"
    }
   ],
   "source": [
    "plt.plot(neighbors,metric_k,'o--',color='g')\n",
    "plt.xlabel('K Value')\n",
    "plt.ylabel('Accuracy')\n",
    "plt.grid()"
   ]
  },
  {
   "cell_type": "code",
   "execution_count": 455,
   "id": "abf9cfed-a100-4f27-9e0c-2d3c1b6aa25f",
   "metadata": {},
   "outputs": [],
   "source": [
    "knn=KNeighborsRegressor(n_neighbors=4)\n",
    "model_knn=knn.fit(x_train,y_train)\n",
    "y_pred_knn=model_knn.predict(x_test)"
   ]
  },
  {
   "cell_type": "code",
   "execution_count": 456,
   "id": "731bfe6c-ed0b-4b50-bf4b-9b90cddb30f1",
   "metadata": {},
   "outputs": [],
   "source": [
    "from sklearn.metrics import mean_squared_error,r2_score"
   ]
  },
  {
   "cell_type": "code",
   "execution_count": 457,
   "id": "51f43535-62bc-4d2d-beec-bcfefd7d7d3c",
   "metadata": {},
   "outputs": [
    {
     "name": "stdout",
     "output_type": "stream",
     "text": [
      "115.12384072580656\n"
     ]
    }
   ],
   "source": [
    "print(mean_squared_error(y_test,y_pred_knn))"
   ]
  },
  {
   "cell_type": "code",
   "execution_count": 458,
   "id": "dd3f5303-aefe-49f5-a47b-45e200d98fca",
   "metadata": {},
   "outputs": [
    {
     "name": "stdout",
     "output_type": "stream",
     "text": [
      "0.9995877920409472\n"
     ]
    }
   ],
   "source": [
    "print(r2_score(y_test,y_pred_knn))"
   ]
  },
  {
   "cell_type": "code",
   "execution_count": null,
   "id": "906fd56f-77ec-40f2-871d-11f00f70d44e",
   "metadata": {},
   "outputs": [],
   "source": [
    "# ACCURACY OF KNN  MODEL IS 99%"
   ]
  },
  {
   "cell_type": "markdown",
   "id": "120902ed-8fb1-4449-babc-5c9fe23df170",
   "metadata": {},
   "source": [
    "# SVM MODEL"
   ]
  },
  {
   "cell_type": "code",
   "execution_count": 459,
   "id": "9a5f2623-bf4a-477d-ac41-3a40de48ee81",
   "metadata": {},
   "outputs": [],
   "source": [
    "from sklearn.model_selection import train_test_split\n",
    "x_train,x_test,y_train,y_test=train_test_split(x,y,test_size=0.25,random_state=42)"
   ]
  },
  {
   "cell_type": "code",
   "execution_count": 460,
   "id": "8d05a7da-b892-4896-b427-6eac329f112c",
   "metadata": {},
   "outputs": [],
   "source": [
    "from sklearn.svm import SVR"
   ]
  },
  {
   "cell_type": "code",
   "execution_count": 461,
   "id": "c661a914-6e3c-4465-a00e-058715875e0a",
   "metadata": {},
   "outputs": [],
   "source": [
    "svm_reg=SVR(kernel='rbf')"
   ]
  },
  {
   "cell_type": "code",
   "execution_count": 462,
   "id": "542f63dc-6108-46a5-962d-bfbbdda28d75",
   "metadata": {},
   "outputs": [],
   "source": [
    "svm_model=svm_reg.fit(x_train,y_train)"
   ]
  },
  {
   "cell_type": "code",
   "execution_count": 463,
   "id": "a72b298d-4170-44f9-b58f-85e8d0b0222e",
   "metadata": {},
   "outputs": [],
   "source": [
    "y_pred_svm=svm_model.predict(x_test)"
   ]
  },
  {
   "cell_type": "code",
   "execution_count": 464,
   "id": "5d707498-47dd-4952-ba34-094756d9cc25",
   "metadata": {},
   "outputs": [],
   "source": [
    "from sklearn.metrics import mean_squared_error,r2_score"
   ]
  },
  {
   "cell_type": "code",
   "execution_count": 465,
   "id": "de0d934c-30fd-4ca5-80a0-adf7efa074f3",
   "metadata": {},
   "outputs": [
    {
     "name": "stdout",
     "output_type": "stream",
     "text": [
      "6809.051107739895\n"
     ]
    }
   ],
   "source": [
    "print(mean_squared_error(y_test,y_pred_svm))"
   ]
  },
  {
   "cell_type": "code",
   "execution_count": 466,
   "id": "4b48bfa4-3b64-4407-9bab-5e1b903a5d9b",
   "metadata": {},
   "outputs": [
    {
     "name": "stdout",
     "output_type": "stream",
     "text": [
      "0.9756197756910056\n"
     ]
    }
   ],
   "source": [
    "print(r2_score(y_test,y_pred_svm))"
   ]
  },
  {
   "cell_type": "code",
   "execution_count": null,
   "id": "45f21438-ed98-4e53-b5e8-6bed49fabca1",
   "metadata": {},
   "outputs": [],
   "source": [
    "# ACCURACY OF SVM MODEL IS 97%"
   ]
  },
  {
   "cell_type": "markdown",
   "id": "f0177369-2b01-49a3-97f7-b74a43b80254",
   "metadata": {},
   "source": [
    "# D T"
   ]
  },
  {
   "cell_type": "code",
   "execution_count": 467,
   "id": "98ccfa54-c6cc-45b2-b883-b99f2b148ff9",
   "metadata": {},
   "outputs": [],
   "source": [
    "from sklearn.model_selection import train_test_split\n",
    "x_train,x_test,y_train,y_test=train_test_split(x,y,test_size=0.25,random_state=42)"
   ]
  },
  {
   "cell_type": "code",
   "execution_count": 468,
   "id": "1da2068c-981e-4177-8d1d-9b91e9b43cc1",
   "metadata": {},
   "outputs": [
    {
     "name": "stdout",
     "output_type": "stream",
     "text": [
      "0        283.7\n",
      "1        282.1\n",
      "2        282.4\n",
      "3        282.9\n",
      "4        282.7\n",
      "         ...  \n",
      "5698    1749.7\n",
      "5699    1736.3\n",
      "5700    1726.2\n",
      "5701    1709.3\n",
      "5702    1723.0\n",
      "Name: Close, Length: 5703, dtype: float64\n",
      "          Date      Open      High       Low    Volume  Currency\n",
      "0     0.000000  0.018079  0.016450  0.013880  0.026479       0.0\n",
      "1     0.000175  0.014892  0.013991  0.014438  0.031166       0.0\n",
      "2     0.000351  0.013738  0.012788  0.013992  0.023337       0.0\n",
      "3     0.000526  0.014232  0.013717  0.014995  0.013797       0.0\n",
      "4     0.000702  0.014177  0.013389  0.014884  0.037479       0.0\n",
      "...        ...       ...       ...       ...       ...       ...\n",
      "5698  0.999298  0.819760  0.818942  0.822956  0.191322       0.0\n",
      "5699  0.999474  0.820530  0.816155  0.823792  0.160023       0.0\n",
      "5700  0.999649  0.812672  0.808066  0.816935  0.216441       0.0\n",
      "5701  0.999825  0.805803  0.799869  0.804950  0.243246       0.0\n",
      "5702  1.000000  0.797505  0.803394  0.809382  0.000000       0.0\n",
      "\n",
      "[5703 rows x 6 columns]\n"
     ]
    }
   ],
   "source": [
    "print(y)\n",
    "print(x)"
   ]
  },
  {
   "cell_type": "code",
   "execution_count": 469,
   "id": "030a4fb4-fb2b-4452-b176-d8eb0a3ab387",
   "metadata": {},
   "outputs": [
    {
     "name": "stdout",
     "output_type": "stream",
     "text": [
      "          Date      Open      High       Low    Volume  Currency\n",
      "376   0.065942  0.006100  0.005137  0.005686  0.030087       0.0\n",
      "5240  0.918976  0.890428  0.895016  0.902057  0.202005       0.0\n",
      "859   0.150649  0.053577  0.053722  0.053961  0.035356       0.0\n",
      "1485  0.260435  0.147434  0.145262  0.141256  0.105597       0.0\n",
      "4909  0.860926  0.631718  0.633676  0.640727  0.348997       0.0\n",
      "...        ...       ...       ...       ...       ...       ...\n",
      "3772  0.661522  0.511705  0.518144  0.514354  0.182616       0.0\n",
      "5191  0.910382  0.929388  0.935020  0.934110  0.350578       0.0\n",
      "5226  0.916521  0.918068  0.913324  0.910976  0.327652       0.0\n",
      "5390  0.945282  0.899989  0.897530  0.910976  0.180437       0.0\n",
      "860   0.150824  0.055720  0.056017  0.056525  0.037586       0.0\n",
      "\n",
      "[4277 rows x 6 columns]\n",
      "          Date      Open      High       Low    Volume  Currency\n",
      "1436  0.251841  0.116716  0.116570  0.118346  0.053270       0.0\n",
      "748   0.131182  0.049126  0.051426  0.049334  0.046454       0.0\n",
      "3463  0.607331  0.565886  0.565854  0.559953  0.228116       0.0\n",
      "1448  0.253946  0.114958  0.113674  0.115335  0.072671       0.0\n",
      "4351  0.763066  0.562369  0.557766  0.563521  0.370889       0.0\n",
      "...        ...       ...       ...       ...       ...       ...\n",
      "2876  0.504384  0.697055  0.697508  0.702046  0.187230       0.0\n",
      "5691  0.998071  0.835531  0.834463  0.843804  0.152253       0.0\n",
      "1740  0.305156  0.199033  0.200623  0.202464  0.044999       0.0\n",
      "2323  0.407401  0.352456  0.349820  0.339986  0.151431       0.0\n",
      "3846  0.674500  0.519618  0.516450  0.518368  0.186376       0.0\n",
      "\n",
      "[1426 rows x 6 columns]\n",
      "376      265.8\n",
      "5240    1892.5\n",
      "859      357.2\n",
      "1485     509.5\n",
      "4909    1412.2\n",
      "         ...  \n",
      "3772    1204.0\n",
      "5191    1939.2\n",
      "5226    1894.6\n",
      "5390    1895.5\n",
      "860      359.7\n",
      "Name: Close, Length: 4277, dtype: float64\n",
      "1436     469.3\n",
      "748      351.6\n",
      "3463    1268.2\n",
      "1448     463.2\n",
      "4351    1277.5\n",
      "         ...  \n",
      "2876    1526.2\n",
      "5691    1771.2\n",
      "1740     625.4\n",
      "2323     872.8\n",
      "3846    1186.9\n",
      "Name: Close, Length: 1426, dtype: float64\n"
     ]
    }
   ],
   "source": [
    "print(x_train)\n",
    "print(x_test)\n",
    "print(y_train)\n",
    "print(y_test)"
   ]
  },
  {
   "cell_type": "code",
   "execution_count": 470,
   "id": "0ac32846-6046-4b06-969b-74ba745f7f35",
   "metadata": {},
   "outputs": [],
   "source": [
    "from sklearn.tree import DecisionTreeRegressor #DecisionTreeClassifier"
   ]
  },
  {
   "cell_type": "code",
   "execution_count": 471,
   "id": "782528d8-c043-4377-a6c1-44430a7f0e57",
   "metadata": {},
   "outputs": [],
   "source": [
    "dt_reg= DecisionTreeRegressor(random_state=42)"
   ]
  },
  {
   "cell_type": "code",
   "execution_count": 472,
   "id": "dbd07a2d-7c4e-49f6-a4f5-45308ad0996e",
   "metadata": {},
   "outputs": [],
   "source": [
    "dt_model=dt_reg.fit(x_train,y_train)"
   ]
  },
  {
   "cell_type": "code",
   "execution_count": 473,
   "id": "3a1fd46d-19e4-4a5e-880f-042943c7ff1e",
   "metadata": {},
   "outputs": [],
   "source": [
    "y_pred_dt=dt_model.predict(x_test)"
   ]
  },
  {
   "cell_type": "code",
   "execution_count": 474,
   "id": "81de1bf9-9c7d-40ce-a860-e0c0bf601029",
   "metadata": {},
   "outputs": [],
   "source": [
    "from sklearn.metrics import mean_squared_error,r2_score"
   ]
  },
  {
   "cell_type": "code",
   "execution_count": 475,
   "id": "4be13cd6-fdbf-4521-af87-afdc036704fc",
   "metadata": {},
   "outputs": [
    {
     "name": "stdout",
     "output_type": "stream",
     "text": [
      "69.88512622720901\n"
     ]
    }
   ],
   "source": [
    "print(mean_squared_error(y_test,y_pred_dt))"
   ]
  },
  {
   "cell_type": "code",
   "execution_count": 476,
   "id": "df8d1ff4-86eb-4f66-b0c8-36855117f50d",
   "metadata": {},
   "outputs": [
    {
     "name": "stdout",
     "output_type": "stream",
     "text": [
      "0.9997497720275084\n"
     ]
    }
   ],
   "source": [
    "print(r2_score(y_test,y_pred_dt))"
   ]
  },
  {
   "cell_type": "code",
   "execution_count": null,
   "id": "71988d6f-6c6c-4409-8d9a-3c604054b077",
   "metadata": {},
   "outputs": [],
   "source": [
    "# ACCURACY OF DT MODEL IS 99%"
   ]
  },
  {
   "cell_type": "markdown",
   "id": "13ccd348-ad6b-41f5-ad0c-966a0c2d0175",
   "metadata": {},
   "source": [
    "# Random Forest"
   ]
  },
  {
   "cell_type": "code",
   "execution_count": 477,
   "id": "6e920b51-930a-427e-a541-baae3072a864",
   "metadata": {},
   "outputs": [],
   "source": [
    "from sklearn.ensemble import RandomForestRegressor"
   ]
  },
  {
   "cell_type": "code",
   "execution_count": 478,
   "id": "0b015886-a339-455a-983d-bdd8ef3c84a4",
   "metadata": {},
   "outputs": [],
   "source": [
    "rf_reg= RandomForestRegressor(random_state=42)"
   ]
  },
  {
   "cell_type": "code",
   "execution_count": 479,
   "id": "36005a41-512f-40d7-b9d1-250d59be2d0f",
   "metadata": {},
   "outputs": [],
   "source": [
    "rf_model=rf_reg.fit(x_train,y_train)"
   ]
  },
  {
   "cell_type": "code",
   "execution_count": 480,
   "id": "8bb110f5-b1c5-4e48-997a-b41be55514f8",
   "metadata": {},
   "outputs": [],
   "source": [
    "y_pred_rf=rf_model.predict(x_test)"
   ]
  },
  {
   "cell_type": "code",
   "execution_count": 481,
   "id": "f32a7aa0-8670-4acf-afb1-ff2e34ecaaeb",
   "metadata": {},
   "outputs": [],
   "source": [
    "from sklearn.metrics import mean_squared_error,r2_score"
   ]
  },
  {
   "cell_type": "code",
   "execution_count": 482,
   "id": "8e0499dd-3581-4fad-b24d-10c472f61fee",
   "metadata": {},
   "outputs": [
    {
     "name": "stdout",
     "output_type": "stream",
     "text": [
      "40.64436435974744\n"
     ]
    }
   ],
   "source": [
    "print(mean_squared_error(y_test,y_pred_rf))"
   ]
  },
  {
   "cell_type": "code",
   "execution_count": 483,
   "id": "42f19973-a81b-4b04-afa0-797b0420ddff",
   "metadata": {},
   "outputs": [
    {
     "name": "stdout",
     "output_type": "stream",
     "text": [
      "0.9998544703653552\n"
     ]
    }
   ],
   "source": [
    "print(r2_score(y_test,y_pred_rf))"
   ]
  },
  {
   "cell_type": "code",
   "execution_count": null,
   "id": "5628cdec-e79d-4bb2-887c-0d615bb4c6dd",
   "metadata": {},
   "outputs": [],
   "source": [
    "# ACCURACY OF RF MODEL IS 99%"
   ]
  },
  {
   "cell_type": "markdown",
   "id": "3d73dbcb-e84f-4a01-a447-1f29f1db4961",
   "metadata": {},
   "source": [
    "# Boosting"
   ]
  },
  {
   "cell_type": "raw",
   "id": "31644f0e-5edc-4bca-84d5-bbb539d7cadd",
   "metadata": {},
   "source": [
    "Ada Boost"
   ]
  },
  {
   "cell_type": "code",
   "execution_count": 484,
   "id": "809b9099-3199-4367-8444-821c8872b2e3",
   "metadata": {},
   "outputs": [
    {
     "data": {
      "text/plain": [
       "array([ 456.88503563,  344.33485477, 1282.76028278, ...,  610.69218241,\n",
       "        893.0776699 , 1213.0003643 ])"
      ]
     },
     "execution_count": 484,
     "metadata": {},
     "output_type": "execute_result"
    }
   ],
   "source": [
    "from sklearn.ensemble import AdaBoostRegressor\n",
    "model_ada= AdaBoostRegressor()\n",
    "model_ada.fit(x_train,y_train)\n",
    "pred_ada= model_ada.predict(x_test)\n",
    "pred_ada"
   ]
  },
  {
   "cell_type": "code",
   "execution_count": 485,
   "id": "79379942-3cde-4c8a-8328-af75c717d7d2",
   "metadata": {},
   "outputs": [],
   "source": [
    "from sklearn.metrics import mean_squared_error,r2_score"
   ]
  },
  {
   "cell_type": "code",
   "execution_count": 486,
   "id": "0751ec5f-c76f-4e8c-abbf-d4f2df98081f",
   "metadata": {},
   "outputs": [
    {
     "name": "stdout",
     "output_type": "stream",
     "text": [
      "869.3056881088211\n"
     ]
    }
   ],
   "source": [
    "print(mean_squared_error(y_test,pred_ada))"
   ]
  },
  {
   "cell_type": "code",
   "execution_count": 487,
   "id": "9ea74a03-4028-425b-8601-2aaef58af5b0",
   "metadata": {},
   "outputs": [
    {
     "name": "stdout",
     "output_type": "stream",
     "text": [
      "0.9968873977689657\n"
     ]
    }
   ],
   "source": [
    "print(r2_score(y_test,pred_ada))"
   ]
  },
  {
   "cell_type": "raw",
   "id": "56a7e74b-2927-47fc-a8bb-e62aee9a8ba0",
   "metadata": {},
   "source": [
    "Gradient Boosting;"
   ]
  },
  {
   "cell_type": "code",
   "execution_count": 488,
   "id": "fd975119-5988-4020-8858-99fd2b25d0ef",
   "metadata": {},
   "outputs": [
    {
     "data": {
      "text/plain": [
       "array([ 467.25472451,  351.81751919, 1280.96400291, ...,  619.83461506,\n",
       "        887.32995738, 1197.11066237])"
      ]
     },
     "execution_count": 488,
     "metadata": {},
     "output_type": "execute_result"
    }
   ],
   "source": [
    "from sklearn.ensemble import GradientBoostingRegressor\n",
    "model_gra= GradientBoostingRegressor()\n",
    "model_gra.fit(x_train,y_train)\n",
    "pred_gra = model_gra.predict(x_test)\n",
    "pred_gra"
   ]
  },
  {
   "cell_type": "code",
   "execution_count": 489,
   "id": "12b15185-f5ed-4441-a98e-b71912361e0e",
   "metadata": {},
   "outputs": [],
   "source": [
    "from sklearn.metrics import mean_squared_error,r2_score"
   ]
  },
  {
   "cell_type": "code",
   "execution_count": 490,
   "id": "d49ef6bd-02f5-4e75-a960-e00c9ea56929",
   "metadata": {},
   "outputs": [
    {
     "name": "stdout",
     "output_type": "stream",
     "text": [
      "60.62730539499396\n"
     ]
    }
   ],
   "source": [
    "print(mean_squared_error(y_test,pred_gra))"
   ]
  },
  {
   "cell_type": "code",
   "execution_count": 491,
   "id": "9fffee8c-827b-44a0-af8f-dc630dea94fc",
   "metadata": {},
   "outputs": [
    {
     "name": "stdout",
     "output_type": "stream",
     "text": [
      "0.9997829202217179\n"
     ]
    }
   ],
   "source": [
    "print(r2_score(y_test,pred_gra))"
   ]
  },
  {
   "cell_type": "raw",
   "id": "8c0ede0a-5e14-400f-82af-8a3e3444ac6d",
   "metadata": {},
   "source": [
    "XG Boost;"
   ]
  },
  {
   "cell_type": "code",
   "execution_count": 492,
   "id": "50d247ca-9285-407c-9862-1ff347e820d5",
   "metadata": {},
   "outputs": [
    {
     "name": "stdout",
     "output_type": "stream",
     "text": [
      "Requirement already satisfied: xgboost in c:\\users\\asus\\anaconda3\\lib\\site-packages (2.1.1)Note: you may need to restart the kernel to use updated packages.\n",
      "\n",
      "Requirement already satisfied: numpy in c:\\users\\asus\\anaconda3\\lib\\site-packages (from xgboost) (1.26.4)\n",
      "Requirement already satisfied: scipy in c:\\users\\asus\\anaconda3\\lib\\site-packages (from xgboost) (1.11.4)\n"
     ]
    }
   ],
   "source": [
    "pip install xgboost"
   ]
  },
  {
   "cell_type": "code",
   "execution_count": 493,
   "id": "5f83c0da-4869-44ff-81be-a033c03971aa",
   "metadata": {},
   "outputs": [
    {
     "data": {
      "text/plain": [
       "array([ 471.97125,  348.47504, 1278.0508 , ...,  624.519  ,  883.3459 ,\n",
       "       1194.4049 ], dtype=float32)"
      ]
     },
     "execution_count": 493,
     "metadata": {},
     "output_type": "execute_result"
    }
   ],
   "source": [
    "from xgboost import XGBRegressor\n",
    "model_xgb = XGBRegressor()\n",
    "model_xgb.fit(x_train,y_train)\n",
    "pred_xgb = model_xgb.predict(x_test)\n",
    "pred_xgb"
   ]
  },
  {
   "cell_type": "code",
   "execution_count": 494,
   "id": "f6b0ee64-ce2c-47a0-8b8b-61824b4bac05",
   "metadata": {},
   "outputs": [],
   "source": [
    "from sklearn.metrics import mean_squared_error,r2_score"
   ]
  },
  {
   "cell_type": "code",
   "execution_count": 495,
   "id": "ce8d672a-ee33-41d4-811e-cbefdce303fa",
   "metadata": {},
   "outputs": [
    {
     "name": "stdout",
     "output_type": "stream",
     "text": [
      "47.399868485671\n"
     ]
    }
   ],
   "source": [
    "print(mean_squared_error(y_test,pred_xgb))"
   ]
  },
  {
   "cell_type": "code",
   "execution_count": 496,
   "id": "221ab67e-bb6a-444c-b9da-f1311196cf4b",
   "metadata": {},
   "outputs": [
    {
     "name": "stdout",
     "output_type": "stream",
     "text": [
      "0.9998302818692925\n"
     ]
    }
   ],
   "source": [
    "print(r2_score(y_test,pred_xgb))"
   ]
  },
  {
   "cell_type": "code",
   "execution_count": null,
   "id": "22c28e21-31b3-4e84-8fdd-7bcf91fe64c2",
   "metadata": {},
   "outputs": [],
   "source": [
    "# ACCURACY OF ALL BOOSTING MODEL IS 99%"
   ]
  },
  {
   "cell_type": "markdown",
   "id": "efa0582e-e1a8-444f-b5e7-b24a43f827fc",
   "metadata": {},
   "source": [
    "# Performance Analysis"
   ]
  },
  {
   "cell_type": "code",
   "execution_count": 497,
   "id": "7d7bed41-cede-4168-a99c-78fcbaec7e8a",
   "metadata": {},
   "outputs": [],
   "source": [
    "lg_score  =99 # Linear Regression\n",
    "knn_score =99 # K nearest\n",
    "svm_scodre=97 # support vector\n",
    "dt_score  =99 # decision tree\n",
    "rf_score  =99 # random forest\n",
    "xgb_score =99 # xg boost"
   ]
  },
  {
   "cell_type": "code",
   "execution_count": 508,
   "id": "970c41bb-8ae6-4f7f-91b6-bd733c263eac",
   "metadata": {},
   "outputs": [
    {
     "data": {
      "image/png": "[encoded data removed]",
      "text/plain": [
       "<Figure size 1000x500 with 1 Axes>"
      ]
     },
     "metadata": {},
     "output_type": "display_data"
    }
   ],
   "source": [
    "algorithms = ['Lin Reg','KNN' ,'SVM','DT','Random Forest','BOOSTING']\n",
    "scores = [lg_score,knn_score,svm_scodre,dt_score,rf_score,xgb_score]\n",
    "\n",
    "plt.figure(figsize=(10, 5))\n",
    "plt.bar(algorithms, scores, color=['green', 'cyan', 'yellow', 'pink', 'red','orange'])\n",
    "plt.xlabel(\"Algorithms\")\n",
    "plt.ylabel(\"R2score\")\n",
    "plt.title(\"Performance Analysis of Different Regression Algorithms\")\n",
    "plt.ylim(0, max(scores) + 1) \n",
    "plt.grid(axis='y',alpha=0.5)\n",
    "plt.show()"
   ]
  },
  {
   "cell_type": "markdown",
   "id": "f868c957-8ffc-43c7-93cb-a1b83eba2b59",
   "metadata": {},
   "source": [
    "# Conclusion"
   ]
  },
  {
   "cell_type": "raw",
   "id": "55b75b87-6e2b-43e6-83c0-985e8fb95e3a",
   "metadata": {},
   "source": [
    "All the models—Linear Regression, K-Nearest Neighbors (KNN), Decision Tree, Random Forest (RF), and XGBoost (XGB)—achieved an impressive score of 99, demonstrating exceptional performance and suggesting that the dataset is well-suited to various algorithms. The Support Vector Machine (SVM) performed slightly lower with a score of 97, indicating it may not capture the data's patterns as effectively as the others, potentially due to its kernel choice or hyperparameters. Overall, the consistent high performance across most models reflects strong data quality and effective feature engineering, with minor adjustments potentially improving SVM's performance further."
   ]
  }
 ],
 "metadata": {
  "kernelspec": {
   "display_name": "Python 3 (ipykernel)",
   "language": "python",
   "name": "python3"
  },
  "language_info": {
   "codemirror_mode": {
    "name": "ipython",
    "version": 3
   },
   "file_extension": ".py",
   "mimetype": "text/x-python",
   "name": "python",
   "nbconvert_exporter": "python",
   "pygments_lexer": "ipython3",
   "version": "3.11.7"
  }
 },
 "nbformat": 4,
 "nbformat_minor": 5
}
